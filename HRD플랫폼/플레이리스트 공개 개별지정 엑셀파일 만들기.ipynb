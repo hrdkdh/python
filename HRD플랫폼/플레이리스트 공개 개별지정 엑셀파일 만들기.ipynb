{
 "cells": [
  {
   "cell_type": "code",
   "execution_count": null,
   "metadata": {
    "scrolled": false
   },
   "outputs": [],
   "source": [
    "import pandas as pd\n",
    "import math\n",
    "\n",
    "iter_unit = 900 #한번에 900명씩 쪼개서 파일 생성\n",
    "\n",
    "df = pd.read_clipboard()\n",
    "df.reset_index(inplace=True)\n",
    "df.drop(columns=[\"사용자아이디\"], inplace=True)\n",
    "df"
   ]
  },
  {
   "cell_type": "code",
   "execution_count": null,
   "metadata": {},
   "outputs": [],
   "source": [
    "df.rename(columns = {\"index\" : '사용자아이디'}, inplace = True)\n",
    "df.drop([0, 1, 2], inplace=True)\n",
    "df.reset_index(inplace=True)\n",
    "df.drop(columns=[\"index\"], inplace=True)\n",
    "df"
   ]
  },
  {
   "cell_type": "code",
   "execution_count": null,
   "metadata": {},
   "outputs": [],
   "source": [
    "iter_cnt = math.ceil(len(df)/iter_unit)\n",
    "row_df = pd.DataFrame({\"사용자아이디\" : [\"사용자ID (email)\\nVC(200)\\n(필수)\"]})\n",
    "\n",
    "for i in range(iter_cnt):\n",
    "    file_no = str(i+1)\n",
    "    file_name = \"C:/Users/POSCOUSER/Desktop/개별지정명단/개별지정명단\"+file_no+\".xls\"\n",
    "    percent = round(((i+1)/iter_cnt)*100, 2)\n",
    "    start_row_no = i * (iter_unit)\n",
    "    end_row_no = start_row_no + iter_unit\n",
    "    if i == iter_cnt-1:\n",
    "        end_row_no = len(df)\n",
    "\n",
    "    df_final = pd.concat([row_df, df.iloc[start_row_no:end_row_no]])\n",
    "    df_final.to_excel(file_name, index=False)\n",
    "    print(\"{} %... {}/{}번째 파일 생성완료\".format(percent, file_no, iter_cnt), end=\"\\r\")"
   ]
  }
 ],
 "metadata": {
  "kernelspec": {
   "display_name": "Python 3",
   "language": "python",
   "name": "python3"
  },
  "language_info": {
   "codemirror_mode": {
    "name": "ipython",
    "version": 3
   },
   "file_extension": ".py",
   "mimetype": "text/x-python",
   "name": "python",
   "nbconvert_exporter": "python",
   "pygments_lexer": "ipython3",
   "version": "3.7.9"
  }
 },
 "nbformat": 4,
 "nbformat_minor": 4
}
