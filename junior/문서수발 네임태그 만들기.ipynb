{
 "cells": [
  {
   "cell_type": "code",
   "execution_count": 97,
   "id": "f67913bf",
   "metadata": {},
   "outputs": [],
   "source": [
    "import time\n",
    "import pandas as pd\n",
    "from selenium import webdriver"
   ]
  },
  {
   "cell_type": "code",
   "execution_count": 60,
   "id": "41c41e91",
   "metadata": {},
   "outputs": [],
   "source": [
    "driver = webdriver.Chrome(\"chromedriver.exe\")"
   ]
  },
  {
   "cell_type": "code",
   "execution_count": 87,
   "id": "56353134",
   "metadata": {},
   "outputs": [],
   "source": [
    "driver.switch_to.window(driver.window_handles[1])"
   ]
  },
  {
   "cell_type": "code",
   "execution_count": 101,
   "id": "f3d18678",
   "metadata": {
    "code_folding": []
   },
   "outputs": [],
   "source": [
    "mail_list = [\n",
    "    { \"std_name\" : \"\", \"mail\" : \"\" },\n",
    "    { \"std_name\" : \"\", \"mail\" : \"\" }\n",
    "]"
   ]
  },
  {
   "cell_type": "code",
   "execution_count": null,
   "id": "1c16ad96",
   "metadata": {},
   "outputs": [],
   "source": [
    "result_list = []\n",
    "for mail in mail_list:\n",
    "    try:\n",
    "        driver.find_element_by_css_selector(\"#searchWordTxt\").clear()\n",
    "        driver.find_element_by_css_selector(\"#searchWordTxt\").send_keys(mail[\"mail\"])\n",
    "    except:\n",
    "        driver.find_element_by_css_selector(\"#searchWord\").clear()\n",
    "        driver.find_element_by_css_selector(\"#searchWord\").send_keys(mail[\"mail\"])        \n",
    "    driver.find_element_by_css_selector(\"#popWrap > div.popContents.popCorp > div > div.sArea > div.tab_wrap.clfix > div > fieldset > div > div.btnArea.sInput_box > ul > li > span > input[type=button]\").click()\n",
    "    time.sleep(2)\n",
    "    try:\n",
    "        result_list.append({ \n",
    "            \"자녀이름\" : mail[\"std_name\"],\n",
    "            \"이름\" : driver.find_element_by_css_selector(\"#popWrap > div.popContents.popCorp > div > div.sResult > div.pInfoView > div > div > div > table > tbody > tr:nth-child(2) > td:nth-child(3) > div > div\").text.strip().split(\" / \")[0],\n",
    "            \"부서\" : driver.find_element_by_css_selector(\"#popWrap > div.popContents.popCorp > div > div.sResult > div.pInfoView > div > div > div > table > tbody > tr:nth-child(3) > td:nth-child(2) > div > div.tb_text_area > a\").text.strip(),\n",
    "            \"전화번호\" : driver.find_element_by_css_selector(\"#popWrap > div.popContents.popCorp > div > div.sResult > div.pInfoView > div > div > table > tbody > tr:nth-child(1) > td > span > div > div.tb_text_area\").text.strip(),\n",
    "            \"휴대전화\" : driver.find_element_by_css_selector(\"#popWrap > div.popContents.popCorp > div > div.sResult > div.pInfoView > div > div > table > tbody > tr:nth-child(2) > td:nth-child(2) > div > div.tb_text_area\").text.strip(),\n",
    "            \"이메일\" : driver.find_element_by_css_selector(\"#popWrap > div.popContents.popCorp > div > div.sResult > div.pInfoView > div > div > table > tbody > tr:nth-child(2) > td:nth-child(4) > div > div.tb_text_area > a\").text.strip(),\n",
    "        })\n",
    "    except:\n",
    "        pass\n",
    "df = pd.DataFrame(result_list)\n",
    "df.to_excel(\"result.xlsx\", index=False)\n",
    "df"
   ]
  }
 ],
 "metadata": {
  "kernelspec": {
   "display_name": "Python 3",
   "language": "python",
   "name": "python3"
  },
  "language_info": {
   "codemirror_mode": {
    "name": "ipython",
    "version": 3
   },
   "file_extension": ".py",
   "mimetype": "text/x-python",
   "name": "python",
   "nbconvert_exporter": "python",
   "pygments_lexer": "ipython3",
   "version": "3.7.9"
  }
 },
 "nbformat": 4,
 "nbformat_minor": 5
}
