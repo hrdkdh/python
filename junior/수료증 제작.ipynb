{
 "cells": [
  {
   "cell_type": "code",
   "execution_count": 64,
   "id": "0cf5a03b",
   "metadata": {
    "scrolled": false
   },
   "outputs": [],
   "source": [
    "import six\n",
    "import copy\n",
    "import pandas as pd\n",
    "from pptx import Presentation\n",
    "from pptx.enum.text import PP_ALIGN\n",
    "from pptx.dml.color import RGBColor\n",
    "from pptx.util import Pt"
   ]
  },
  {
   "cell_type": "code",
   "execution_count": 65,
   "id": "db7b35ca",
   "metadata": {},
   "outputs": [],
   "source": [
    "def duplicate_slide(prs, org_slide):\n",
    "    #add_slide() 메서드를 이용해 새로운 슬라이드 생성한 후 개체를 복사해 옴\n",
    "    copied_slide = prs.slides.add_slide(org_slide.slide_layout)\n",
    "    for shape in org_slide.shapes:\n",
    "        org_elment = shape.element\n",
    "        new_element = copy.deepcopy(org_elment)\n",
    "        copied_slide.shapes._spTree.insert_element_before(new_element, \"p:extLst\")\n",
    "    for _, value in six.iteritems(org_slide.part.rels):\n",
    "        if \"notesSlide\" not in value.reltype:\n",
    "            copied_slide.part.rels.add_relationship(\n",
    "                value.reltype,\n",
    "                value._target,\n",
    "                value.rId\n",
    "            )\n",
    "    return copied_slide"
   ]
  },
  {
   "cell_type": "code",
   "execution_count": 66,
   "id": "1a9b7183",
   "metadata": {},
   "outputs": [],
   "source": [
    "def delete_slide(prs, slide_idx):\n",
    "    slides_lst = list(prs.slides._sldIdLst)\n",
    "    prs.slides._sldIdLst.remove(slides_lst[slide_idx])"
   ]
  },
  {
   "cell_type": "code",
   "execution_count": 67,
   "id": "629a430f",
   "metadata": {},
   "outputs": [],
   "source": [
    "prs = Presentation(r\"C:\\Users\\poscouser\\Desktop\\수료증 양식.pptx\")\n",
    "\n",
    "#수료증\n",
    "slide_layout = prs.slides[0].slide_layout\n",
    "slide_layout.shapes.element.remove(slide_layout.shapes[0].element)\n",
    "slide_layout.shapes.element.remove(slide_layout.shapes[0].element)\n",
    "cert = prs.slides[0]\n",
    "cert_df = pd.read_clipboard()\n",
    "for item in cert_df.iterrows():\n",
    "    new_slide = duplicate_slide(prs, cert)\n",
    "    for shape in new_slide.shapes:\n",
    "        if shape.has_table:\n",
    "            shape.table.cell(0,2).text = item[1][0]\n",
    "            name_cell = shape.table.cell(0,2).text_frame.paragraphs[0]\n",
    "            name_cell.alignment = PP_ALIGN.LEFT\n",
    "            name_cell.font.name = \"나눔스퀘어\"\n",
    "            name_cell.font.bold = False\n",
    "            name_cell.font.size = Pt(16)\n",
    "            name_cell.font.color.rgb = RGBColor(0x00, 0x00, 0x00)"
   ]
  },
  {
   "cell_type": "code",
   "execution_count": 68,
   "id": "825327a5",
   "metadata": {},
   "outputs": [],
   "source": [
    "#표어만들기 수상자\n",
    "slide_layout = prs.slides[1].slide_layout\n",
    "slide_layout.shapes.element.remove(slide_layout.shapes[0].element)\n",
    "slide_layout.shapes.element.remove(slide_layout.shapes[0].element)\n",
    "prize = prs.slides[1]\n",
    "prize_df = pd.read_clipboard()\n",
    "for item in prize_df.iterrows():\n",
    "    new_slide = duplicate_slide(prs, prize)\n",
    "    for shape in new_slide.shapes:\n",
    "        if shape.has_text_frame and shape.text_frame.text == \"이름 : 김가연\":\n",
    "            shape.text_frame.text = \"이름 : \" + item[1][0]\n",
    "            shape.text_frame.paragraphs[0].alignment = PP_ALIGN.LEFT\n",
    "            shape.text_frame.paragraphs[0].font.name = \"나눔명조 ExtraBold\"\n",
    "            shape.text_frame.paragraphs[0].font.bold = True\n",
    "            shape.text_frame.paragraphs[0].font.size = Pt(18)\n",
    "            shape.text_frame.paragraphs[0].font.color.rgb = RGBColor(0x00, 0x00, 0x00)"
   ]
  },
  {
   "cell_type": "code",
   "execution_count": 70,
   "id": "b2f08f67",
   "metadata": {},
   "outputs": [],
   "source": [
    "#우수교육생\n",
    "prize = prs.slides[2]\n",
    "prize_df = pd.read_clipboard()\n",
    "for item in prize_df.iterrows():\n",
    "    new_slide = duplicate_slide(prs, prize)\n",
    "    for shape in new_slide.shapes:\n",
    "        if shape.has_text_frame and shape.text_frame.text == \"이름 : 김가연\":\n",
    "            shape.text_frame.text = \"이름 : \" + item[1][0]\n",
    "            shape.text_frame.paragraphs[0].alignment = PP_ALIGN.LEFT\n",
    "            shape.text_frame.paragraphs[0].font.name = \"나눔명조 ExtraBold\"\n",
    "            shape.text_frame.paragraphs[0].font.bold = True\n",
    "            shape.text_frame.paragraphs[0].font.size = Pt(18)\n",
    "            shape.text_frame.paragraphs[0].font.color.rgb = RGBColor(0x00, 0x00, 0x00)"
   ]
  },
  {
   "cell_type": "code",
   "execution_count": 71,
   "id": "019650f9",
   "metadata": {},
   "outputs": [],
   "source": [
    "delete_slide(prs, 0)\n",
    "delete_slide(prs, 0)\n",
    "delete_slide(prs, 0)"
   ]
  },
  {
   "cell_type": "code",
   "execution_count": 72,
   "id": "de6a652e",
   "metadata": {},
   "outputs": [],
   "source": [
    "prs.save(r\"C:\\Users\\poscouser\\Desktop\\수료증 작업결과.pptx\")"
   ]
  }
 ],
 "metadata": {
  "kernelspec": {
   "display_name": "Python 3",
   "language": "python",
   "name": "python3"
  },
  "language_info": {
   "codemirror_mode": {
    "name": "ipython",
    "version": 3
   },
   "file_extension": ".py",
   "mimetype": "text/x-python",
   "name": "python",
   "nbconvert_exporter": "python",
   "pygments_lexer": "ipython3",
   "version": "3.7.9"
  }
 },
 "nbformat": 4,
 "nbformat_minor": 5
}
