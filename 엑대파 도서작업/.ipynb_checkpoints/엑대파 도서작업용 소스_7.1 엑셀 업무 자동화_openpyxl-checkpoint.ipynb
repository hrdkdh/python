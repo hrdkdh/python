{
 "cells": [
  {
   "cell_type": "markdown",
   "id": "2f6d5a4d",
   "metadata": {},
   "source": [
    "#### 엑셀파일 생성"
   ]
  },
  {
   "cell_type": "code",
   "execution_count": null,
   "id": "414fdb52",
   "metadata": {},
   "outputs": [],
   "source": [
    "from openpyxl import Workbook\n",
    "\n",
    "#엑셀 워크북(엑셀파일) 객체 생성. 워크북 객체 생성 시 시트 하나가 기본 추가됨\n",
    "wb = Workbook()\n",
    "\n",
    "#active 멤버변수를 통해 현재 활성화된 시트(기본 추가된 시트)를 선택할 수 있음\n",
    "ws = wb.active\n",
    "\n",
    "#ws의 title 멤버변수를 통해 선택한 시트의 이름을 변경\n",
    "ws.title = \"시트1\"\n",
    "\n",
    "#워크북 객체를 엑셀파일로 저장\n",
    "wb.save(filename = \"샘플.xlsx\")"
   ]
  },
  {
   "cell_type": "markdown",
   "id": "78420791",
   "metadata": {},
   "source": [
    "#### 엑셀파일 로드"
   ]
  },
  {
   "cell_type": "code",
   "execution_count": null,
   "id": "e917ea04",
   "metadata": {},
   "outputs": [],
   "source": [
    "from openpyxl import load_workbook\n",
    "\n",
    "#PC에 저장된 엑셀 워크북(엑셀파일)을 불러와 인스턴스 객체 생성\n",
    "wb = load_workbook(filename = \"샘플.xlsx\")\n",
    "\n",
    "#active 멤버변수로 현재 활성화된 시트(기본 추가된 시트)를 선택\n",
    "ws = wb.active\n",
    "\n",
    "#선택한 시트에 행 하나를 추가하고 데이터 입력\n",
    "ws.append([\"이순신\", \"45\", \"남자\"])\n",
    "\n",
    "#수정된 워크북 객체를 엑셀파일로 저장\n",
    "wb.save(filename = \"샘플_수정.xlsx\")"
   ]
  },
  {
   "cell_type": "markdown",
   "id": "735ee795",
   "metadata": {},
   "source": [
    "#### 시트 생성, 정보출력, 시트, 시트 활성화"
   ]
  },
  {
   "cell_type": "code",
   "execution_count": null,
   "id": "bdbacd28",
   "metadata": {},
   "outputs": [],
   "source": [
    "from openpyxl import Workbook\n",
    "\n",
    "wb = Workbook()\n",
    "\n",
    "#create_sheet 메서드로 시트를 추가할 수 있음\n",
    "wb.create_sheet(\"시트2(추가)\")\n",
    "wb.create_sheet(\"시트3(추가)\")\n",
    "\n",
    "#워크북에 저장된 시트들의 정보를 리스트로 출력\n",
    "print(wb.sheetnames)\n",
    "\n",
    "#추가했던 시트를 선택\n",
    "ws = wb[\"시트2(추가)\"]\n",
    "\n",
    "#선택한 시트에 내용을 입력\n",
    "ws.append([\"첫 번째로 추가된 시트입니다.\"])\n",
    "\n",
    "#시트를 변수로 저장하지 않고 시트선택과 셀내용입력까지 한번에 완료하려면 아래와 같이 가능\n",
    "#wb[\"시트2(추가)\"].append([\"추가된 시트입니다.\"])\n",
    "\n",
    "#추가한 시트를 디폴트 시트로 설정하고 저장\n",
    "wb.active = wb[\"시트2(추가)\"]\n",
    "wb.save(filename = \"샘플_시트추가.xlsx\")"
   ]
  },
  {
   "cell_type": "markdown",
   "id": "3eedc19f",
   "metadata": {},
   "source": [
    "#### 시트 복사하기"
   ]
  },
  {
   "cell_type": "code",
   "execution_count": null,
   "id": "403c140d",
   "metadata": {
    "scrolled": true
   },
   "outputs": [],
   "source": [
    "from openpyxl import load_workbook\n",
    "\n",
    "#PC에 저장된 엑셀파일 로드\n",
    "wb = load_workbook(\"샘플.xlsx\")\n",
    "\n",
    "#로드한 엑셀파일의 시트 확인\n",
    "print(wb.sheetnames)  #출력결과 : ['시트1']\n",
    "\n",
    "#시트1을 복사. '시트1 Copy'라는 이름으로 복사됨\n",
    "wb.copy_worksheet(wb[\"시트1\"])\n",
    "\n",
    "#복사한 시트를 디폴트 시트로 설정하고 저장\n",
    "wb.active = wb[\"시트1 Copy\"]\n",
    "wb.save(filename = \"샘플_시트복사.xlsx\")"
   ]
  },
  {
   "cell_type": "markdown",
   "id": "7ee130d4",
   "metadata": {},
   "source": [
    "#### 시트 이름 변경하기"
   ]
  },
  {
   "cell_type": "code",
   "execution_count": null,
   "id": "f22eef85",
   "metadata": {
    "scrolled": true
   },
   "outputs": [],
   "source": [
    "from openpyxl import load_workbook\n",
    "\n",
    "wb = load_workbook(\"샘플_시트복사.xlsx\") #PC에 저장된 엑셀파일 로드\n",
    "print(wb.sheetnames)  #출력결과 : ['시트1', '시트1 Copy']\n",
    "\n",
    "wb[\"시트1 Copy\"].title = \"시트1 복사\"\n",
    "wb.save(filename = \"샘플_시트 이름변경.xlsx\")"
   ]
  },
  {
   "cell_type": "markdown",
   "id": "6f638526",
   "metadata": {},
   "source": [
    "#### 시트 순서 변경하기"
   ]
  },
  {
   "cell_type": "code",
   "execution_count": null,
   "id": "b8ac51af",
   "metadata": {
    "scrolled": true
   },
   "outputs": [],
   "source": [
    "from openpyxl import load_workbook\n",
    "\n",
    "wb = load_workbook(\"샘플_시트 이름변경.xlsx\") #PC에 저장된 엑셀파일 로드\n",
    "print(wb.sheetnames)  #출력결과 : ['시트1', '시트1 복사']\n",
    "\n",
    "#첫 번째 파라미터는 이동하고자 하는 시트\n",
    "#두 번째 파라미터는 이동방향 (음수: 왼쪽, 양수: 오른쪽)\n",
    "wb.move_sheet(wb[\"시트1 복사\"], -1)\n",
    "\n",
    "wb.active = wb[\"시트1 복사\"]\n",
    "wb.save(filename = \"샘플_시트 순서변경.xlsx\")"
   ]
  },
  {
   "cell_type": "markdown",
   "id": "e2fdfd20",
   "metadata": {},
   "source": [
    "#### 시트 삭제하기"
   ]
  },
  {
   "cell_type": "code",
   "execution_count": null,
   "id": "c7babd91",
   "metadata": {
    "scrolled": true
   },
   "outputs": [],
   "source": [
    "from openpyxl import load_workbook\n",
    "\n",
    "wb = load_workbook(\"샘플_시트 순서변경.xlsx\") #PC에 저장된 엑셀파일 로드\n",
    "print(wb.sheetnames)  #출력결과 : ['시트1', '시트1 복사']\n",
    "\n",
    "#삭제하고자 하는 시트 객체를 파라미터로 넣으면 해당 시트는 삭제됨\n",
    "wb.remove(wb[\"시트1\"])\n",
    "\n",
    "wb.save(filename = \"샘플_시트삭제.xlsx\")"
   ]
  },
  {
   "cell_type": "markdown",
   "id": "91c2fa6f",
   "metadata": {},
   "source": [
    "#### 셀 내용 확인하기"
   ]
  },
  {
   "cell_type": "markdown",
   "id": "e3cdf696",
   "metadata": {},
   "source": [
    "- 딕셔너리 키 혹은 인덱스 넘버로 셀 정보에 직접 접근하기"
   ]
  },
  {
   "cell_type": "code",
   "execution_count": null,
   "id": "6ca9c37b",
   "metadata": {
    "scrolled": false
   },
   "outputs": [],
   "source": [
    "from openpyxl import load_workbook\n",
    "\n",
    "wb = load_workbook(\"샘플.xlsx\") #PC에 저장된 엑셀파일 로드\n",
    "ws = wb[\"시트1\"]\n",
    "\n",
    "#ws[\"A1\"]와 같이 셀 주소를 딕셔너리 키로 넣어 해당 셀에 접근가능\n",
    "print(ws[\"A1\"]) #출력결과 : <Cell '시트1'.A1> 객체 출력\n",
    "\n",
    "#cell 객체의 멤버변수인 value 를 통해 셀 값 확인가능\n",
    "print(ws[\"A1\"].value) #출력결과 : 이름\n",
    "\n",
    "#인덱스 넘버로도 셀 정보에 접근가능. 주의) 행의 인덱스 넘버는 1부터, 열은 0부터 시작함\n",
    "print(ws[1]) #1행에 접근. 출력결과 : (<Cell '시트1'.A1>, <Cell '시트1'.B1>, <Cell '시트1'.C1>)\n",
    "print(ws[1][0]) #1행의 0번째 컬럼. 출력결과 : <Cell '시트1'.A1>\n",
    "print(ws[1][0].value) #1행의 0번째 컬럼의 값. 출력결과 : 이름"
   ]
  },
  {
   "cell_type": "markdown",
   "id": "9c65b92e",
   "metadata": {},
   "source": [
    "- 반복문을 통해 셀 정보에 접근하기"
   ]
  },
  {
   "cell_type": "code",
   "execution_count": null,
   "id": "e57d08c7",
   "metadata": {},
   "outputs": [],
   "source": [
    "for row in ws:\n",
    "    print(row)\n",
    "\n",
    "for row in ws:\n",
    "    for col in row:\n",
    "        print(col.row)\n",
    "#         print(\"셀 객체명 : {}, 셀값 : {}\".format(col, col.value))"
   ]
  },
  {
   "cell_type": "code",
   "execution_count": null,
   "id": "c30c65ba",
   "metadata": {},
   "outputs": [],
   "source": [
    "for row in ws:\n",
    "    for col in row:\n",
    "        row_no = col.row\n",
    "        col_let = col.column_letter\n",
    "        print(\"셀의 열문자: {}, 셀의 행번호 : {} => {}{}\".format(col_let, row_no, col_let, row_no))"
   ]
  },
  {
   "cell_type": "markdown",
   "id": "14f4329c",
   "metadata": {},
   "source": [
    "#### 셀 내용 수정하기"
   ]
  },
  {
   "cell_type": "markdown",
   "id": "e12e629a",
   "metadata": {},
   "source": [
    "- 딕셔너리 키로 셀 정보에 직접 접근하여 값 변경하기"
   ]
  },
  {
   "cell_type": "code",
   "execution_count": null,
   "id": "8e7fd688",
   "metadata": {},
   "outputs": [],
   "source": [
    "from openpyxl import load_workbook\n",
    "\n",
    "wb = load_workbook(\"샘플.xlsx\") #PC에 저장된 엑셀파일 로드\n",
    "ws = wb[\"시트1\"]\n",
    "\n",
    "#셀 내용 변경\n",
    "ws[\"A1\"] = \"성명\" #ws[\"A1\"].value = \"성명\" 과 같이 멤버변수 setter로도 가능\n",
    "\n",
    "# ws 변수 없이 사용하려면 아래와 같이 한줄로도 가능\n",
    "# wb[\"시트1\"][\"A1\"] = \"성명\"\n",
    "\n",
    "wb.save(filename = \"샘플_셀내용 변경.xlsx\")"
   ]
  },
  {
   "cell_type": "markdown",
   "id": "8d060a53",
   "metadata": {},
   "source": [
    "- 반복문을 통해 셀 정보에 순차적으로 접근, 값 변경하기"
   ]
  },
  {
   "cell_type": "code",
   "execution_count": null,
   "id": "dab55543",
   "metadata": {},
   "outputs": [],
   "source": [
    "from openpyxl import load_workbook\n",
    "\n",
    "wb = load_workbook(\"샘플.xlsx\") #PC에 저장된 엑셀파일 로드\n",
    "ws = wb[\"시트1\"]\n",
    "new_data = [\"신사임당\", \"45\", \"여자\"] #새로운 값으로 입력될 데이터를 리스트로 저장\n",
    "\n",
    "for idx, row in enumerate(ws): #enumerate() 함수로 반복문을 실행해 반복 index를 얻음\n",
    "    if idx == 1: #2번째 행의 내용만 변경되어야 하므로 조건문으로 제한\n",
    "        for col in row:\n",
    "            #col_idx 멤버변수는 현재 컬럼의 위치를 index로 출력해 줌\n",
    "            #반복문이 현재 A1셀에 접근하고 있다면 col_idx는 1, B1이라면 2, C1이라면 3을 출력\n",
    "            col.value = new_data[col.col_idx-1] #new_data 리스트의 0번째부터 값을 입력\n",
    "\n",
    "wb.save(filename = \"샘플_셀내용 변경(반복문).xlsx\")"
   ]
  },
  {
   "cell_type": "markdown",
   "id": "d125c4da",
   "metadata": {},
   "source": [
    "#### 셀 내용 입력하기"
   ]
  },
  {
   "cell_type": "markdown",
   "id": "5d04d80f",
   "metadata": {},
   "source": [
    "- 딕셔너리 키로 셀 정보에 직접 접근하여 값 입력하기"
   ]
  },
  {
   "cell_type": "code",
   "execution_count": null,
   "id": "01015b14",
   "metadata": {},
   "outputs": [],
   "source": [
    "from openpyxl import load_workbook\n",
    "\n",
    "wb = load_workbook(\"샘플.xlsx\") #PC에 저장된 엑셀파일 로드\n",
    "ws = wb[\"시트1\"]\n",
    "\n",
    "#셀 내용 변경\n",
    "ws[\"A3\"] = \"신사임당\" #ws[\"A3\"].value = \"신사임당\" 과 같이 멤버변수 setter로도 가능\n",
    "ws[\"B3\"] = \"45\"\n",
    "ws[\"C3\"] = \"여자\"\n",
    "\n",
    "wb.save(filename = \"샘플_셀내용 입력.xlsx\")"
   ]
  },
  {
   "cell_type": "markdown",
   "id": "b2aae351",
   "metadata": {},
   "source": [
    "- append() 메서드를 이용해 새로운 행에 값 추가하기"
   ]
  },
  {
   "cell_type": "code",
   "execution_count": null,
   "id": "a2ea9736",
   "metadata": {},
   "outputs": [],
   "source": [
    "from openpyxl import load_workbook\n",
    "\n",
    "wb = load_workbook(\"샘플.xlsx\") #PC에 저장된 엑셀파일 로드\n",
    "ws = wb[\"시트1\"]\n",
    "\n",
    "#셀 내용 입력\n",
    "ws.append([\"신사임당\", \"45\", \"여자\"])\n",
    "ws.append([\"이순신\", \"50\", \"남자\"])\n",
    "\n",
    "wb.save(filename = \"샘플_셀내용 입력(append 메서드 사용).xlsx\")"
   ]
  },
  {
   "cell_type": "code",
   "execution_count": null,
   "id": "add833e0",
   "metadata": {},
   "outputs": [],
   "source": [
    "#데이터가 많으면 append() 메서드가 반복되므로 데이터를 리스트로 만들어 사용하는 것이 편리함\n",
    "new_data_list = [\n",
    "    [\"신사임당\", \"45\", \"여자\"],\n",
    "    [\"이순신\", \"50\", \"남자\"]\n",
    "]\n",
    "\n",
    "for new_data in new_data_list:\n",
    "    ws.append(new_data)\n",
    "\n",
    "wb.save(filename = \"샘플_셀내용 입력(append 메서드 사용).xlsx\")"
   ]
  },
  {
   "cell_type": "markdown",
   "id": "eeda17ef",
   "metadata": {},
   "source": [
    "- insert_row() 매서드를 사용해 행과 행 사이에 새로운 행을 삽입하고 값 입력하기"
   ]
  },
  {
   "cell_type": "code",
   "execution_count": null,
   "id": "aa506623",
   "metadata": {},
   "outputs": [],
   "source": [
    "from openpyxl import load_workbook\n",
    "\n",
    "wb = load_workbook(\"샘플.xlsx\") #PC에 저장된 엑셀파일 로드\n",
    "ws = wb[\"시트1\"]\n",
    "\n",
    "new_data_list = [\n",
    "    [\"신사임당\", \"45\", \"여자\"],\n",
    "    [\"이순신\", \"50\", \"남자\"]\n",
    "]\n",
    "\n",
    "#1행과 2행 사이에 2개의 새로운 행 추가\n",
    "ws.insert_rows(2, 2)\n",
    "\n",
    "#새롭게 추가된 행에 데이터 입력\n",
    "for row_idx, new_data in enumerate(new_data_list):\n",
    "    excel_row_idx = row_idx + 2\n",
    "    for col_idx, col_data in enumerate(new_data):\n",
    "        ws[excel_row_idx][col_idx].value = col_data\n",
    "\n",
    "wb.save(filename = \"샘플_셀내용 입력(insert_rows 매서드 사용).xlsx\")"
   ]
  },
  {
   "cell_type": "markdown",
   "id": "ab9d3cd4",
   "metadata": {},
   "source": [
    "#### 셀 내용 이동하기"
   ]
  },
  {
   "cell_type": "code",
   "execution_count": null,
   "id": "d9b3db99",
   "metadata": {},
   "outputs": [],
   "source": [
    "from openpyxl import load_workbook\n",
    "\n",
    "wb = load_workbook(\"샘플_셀내용 입력(insert_rows 매서드 사용).xlsx\") #PC에 저장된 엑셀파일 로드\n",
    "ws = wb[\"시트1\"]\n",
    "\n",
    "#B1:C4 영역에 있는 데이터를 아래로 한칸, 오른쪽으로 2칸 이동\n",
    "ws.move_range(\"B1:C4\", rows=1, cols=2) #음수값을 사용해 위나 왼쪽으로도 이동 가능\n",
    "\n",
    "wb.save(filename = \"샘플_셀이동.xlsx\")"
   ]
  },
  {
   "cell_type": "markdown",
   "id": "9f2fb163",
   "metadata": {},
   "source": [
    "#### 셀 병합 및 병합 해제하기"
   ]
  },
  {
   "cell_type": "markdown",
   "id": "ba04d993",
   "metadata": {},
   "source": [
    "- 셀 병합하기"
   ]
  },
  {
   "cell_type": "code",
   "execution_count": null,
   "id": "12a68f74",
   "metadata": {},
   "outputs": [],
   "source": [
    "from openpyxl import load_workbook\n",
    "\n",
    "wb = load_workbook(\"샘플_셀내용 입력(insert_rows 매서드 사용).xlsx\") #PC에 저장된 엑셀파일 로드\n",
    "ws = wb[\"시트1\"]\n",
    "\n",
    "#셀 병합하기\n",
    "ws.merge_cells(\"C3:C4\")\n",
    "\n",
    "wb.save(filename = \"샘플_셀병합.xlsx\")"
   ]
  },
  {
   "cell_type": "markdown",
   "id": "03d0d777",
   "metadata": {},
   "source": [
    "- 셀 병합 해제하기"
   ]
  },
  {
   "cell_type": "code",
   "execution_count": null,
   "id": "03444085",
   "metadata": {},
   "outputs": [],
   "source": [
    "from openpyxl import load_workbook\n",
    "\n",
    "wb = load_workbook(\"샘플_셀병합.xlsx\") #PC에 저장된 엑셀파일 로드\n",
    "ws = wb[\"시트1\"]\n",
    "\n",
    "#셀 병합 해제하기\n",
    "ws.unmerge_cells(\"C3:C4\")\n",
    "\n",
    "wb.save(filename = \"샘플_셀병합해제.xlsx\")"
   ]
  },
  {
   "cell_type": "markdown",
   "id": "09186505",
   "metadata": {},
   "source": [
    "#### 행/열 삭제하기"
   ]
  },
  {
   "cell_type": "code",
   "execution_count": null,
   "id": "3bea6b02",
   "metadata": {},
   "outputs": [],
   "source": [
    "from openpyxl import load_workbook\n",
    "\n",
    "wb = load_workbook(\"샘플_셀병합해제.xlsx\") #PC에 저장된 엑셀파일 로드\n",
    "ws = wb[\"시트1\"]\n",
    "\n",
    "#2번 행 삭제하기\n",
    "ws.delete_rows(idx=2, amount=1) #idx : 삭제할 행, amount : idx부터 삭제할 행의 갯수\n",
    "\n",
    "#2~3번째 열 삭제하기\n",
    "ws.delete_cols(idx=2, amount=2) #idx : 삭제할 열, amount : idx부터 삭제할 열의 갯수\n",
    "\n",
    "wb.save(filename = \"샘플_행열삭제.xlsx\")"
   ]
  },
  {
   "cell_type": "markdown",
   "id": "999c1fcd",
   "metadata": {},
   "source": [
    "#### 텍스트 형식을 숫자 형식으로 바꾸기"
   ]
  },
  {
   "cell_type": "code",
   "execution_count": null,
   "id": "428ee591",
   "metadata": {
    "scrolled": true
   },
   "outputs": [],
   "source": [
    "from openpyxl import load_workbook\n",
    "\n",
    "wb = load_workbook(\"샘플_셀내용 입력(insert_rows 매서드 사용).xlsx\")\n",
    "ws = wb[\"시트1\"]\n",
    "\n",
    "#반복문을 통해 B2에서 B4에 있는 나이 데이터만 숫자형으로 변경\n",
    "for row in ws:\n",
    "    for col in row:\n",
    "        #원래 자료형 출력\n",
    "        print(\"{}{} 셀의 자료형 : {}\".format(col.column_letter, col.row, col.data_type))\n",
    "        if col.column_letter == \"B\" and col.row > 1:\n",
    "            col.data_type = \"i\"\n",
    "            #변환된 자료형 출력\n",
    "            print(\"{}{} 셀의 변환된 자료형 : {}\".format(col.column_letter, col.row, col.data_type))\n",
    "        \n",
    "wb.save(filename = \"샘플_텍스트를 숫자 형식으로 변환.xlsx\")"
   ]
  },
  {
   "cell_type": "markdown",
   "id": "f6ebe6e9",
   "metadata": {},
   "source": [
    "#### 셀에 엑셀 함수 넣기"
   ]
  },
  {
   "cell_type": "code",
   "execution_count": null,
   "id": "64343ead",
   "metadata": {},
   "outputs": [],
   "source": [
    "from openpyxl import load_workbook\n",
    "\n",
    "wb = load_workbook(\"샘플_텍스트를 숫자 형식으로 변환.xlsx\")\n",
    "ws = wb[\"시트1\"]\n",
    "\n",
    "#엑셀 함수를 문자열로 입력\n",
    "ws[\"A5\"] = \"합계\"\n",
    "ws[\"B5\"] = \"=sum(B2:B4)\"\n",
    "        \n",
    "wb.save(filename = \"샘플_셀에 엑셀 함수 넣기.xlsx\")"
   ]
  },
  {
   "cell_type": "markdown",
   "id": "17864b2b",
   "metadata": {},
   "source": [
    "#### 셀 배경과 폰트 서식 변경하기"
   ]
  },
  {
   "cell_type": "code",
   "execution_count": null,
   "id": "a9b2b06d",
   "metadata": {},
   "outputs": [],
   "source": [
    "from openpyxl import load_workbook\n",
    "from openpyxl.styles import Font, PatternFill\n",
    "\n",
    "wb = load_workbook(\"샘플_셀에 엑셀 함수 넣기.xlsx\")\n",
    "ws = wb[\"시트1\"]\n",
    "\n",
    "#header 부분(A1:C1)의 배경색은 검정색으로, 폰트는 크기 12에 볼드체와 흰색으로 변경\n",
    "#색 정보는 aRGB HEX 코드로 지정하면 됨\n",
    "fill_style = PatternFill(fill_type=\"solid\", start_color=\"000000\") #셀 배경색 설정 객체 생성\n",
    "font_style = Font(color=\"FFFFFF\", sz=12, bold=True) #폰트 설정 객체 생성\n",
    "\n",
    "for row in ws:\n",
    "    for col in row:\n",
    "        if col.row == 1:\n",
    "            col.fill = fill_style\n",
    "            col.font = font_style\n",
    "\n",
    "wb.save(filename = \"샘플_셀 배경과 폰트 서식 변경.xlsx\")"
   ]
  },
  {
   "cell_type": "markdown",
   "id": "f38fef47",
   "metadata": {},
   "source": [
    "#### 셀 너비와 높이 조정하기"
   ]
  },
  {
   "cell_type": "code",
   "execution_count": 39,
   "id": "5dd6c9d1",
   "metadata": {},
   "outputs": [],
   "source": [
    "from openpyxl import load_workbook\n",
    "\n",
    "wb = load_workbook(\"샘플_셀 배경과 폰트 서식 변경.xlsx\")\n",
    "ws = wb[\"시트1\"]\n",
    "\n",
    "#1~5행의 높이를 24로, 1열의 너비를 14로 변경\n",
    "for i in range(1, 6):\n",
    "    ws.row_dimensions[i].height = 24 #row_dimensions[숫자] → 숫자행 전체를 선택\n",
    "\n",
    "ws.column_dimensions[\"A\"].width = 14 #column_dimensions[\"A\"] → A열 전체를 선택\n",
    "wb.save(filename = \"샘플_셀 너비와 높이 조정.xlsx\")"
   ]
  },
  {
   "cell_type": "markdown",
   "id": "8c18ff8f",
   "metadata": {},
   "source": [
    "#### 셀 텍스트 정렬 변경하기"
   ]
  },
  {
   "cell_type": "code",
   "execution_count": 40,
   "id": "912ff628",
   "metadata": {},
   "outputs": [],
   "source": [
    "from openpyxl import load_workbook\n",
    "from openpyxl.styles import Alignment\n",
    "\n",
    "wb = load_workbook(\"샘플_셀 너비와 높이 조정.xlsx\")\n",
    "ws = wb[\"시트1\"]\n",
    "\n",
    "#모든 텍스트의 가로 정렬값과 세로 정렬값을 중앙으로 변경\n",
    "alignment_style = Alignment(horizontal=\"center\", vertical=\"center\")\n",
    "\n",
    "for row in ws:\n",
    "    for col in row:\n",
    "        col.alignment = alignment_style\n",
    "\n",
    "wb.save(filename = \"샘플_셀 텍스트 정렬 변경.xlsx\")"
   ]
  },
  {
   "cell_type": "markdown",
   "id": "071b65d0",
   "metadata": {},
   "source": [
    "#### 셀 테두리 서식 변경하기"
   ]
  },
  {
   "cell_type": "code",
   "execution_count": 45,
   "id": "2acc1941",
   "metadata": {},
   "outputs": [],
   "source": [
    "from openpyxl import load_workbook\n",
    "from openpyxl.styles import Side, Border\n",
    "\n",
    "wb = load_workbook(\"샘플_셀 텍스트 정렬 변경.xlsx\")\n",
    "ws = wb[\"시트1\"]\n",
    "\n",
    "#셀 테두리 서식 설정 → 객체로 저장한 후 Border 클래스 생성자의 값으로 입력됨\n",
    "side_style = Side(style=\"medium\", color=\"000000\") #테두리를 중간 굵기에 검은색으로 설정\n",
    "\n",
    "#위 서식(side_style)을 적용할 테두리 영역을 설정 → 객체로 저장\n",
    "border_styles = Border(\n",
    "    left=side_style,\n",
    "    right=side_style,\n",
    "    top=side_style,\n",
    "    bottom=side_style\n",
    ")\n",
    "\n",
    "#모든 셀에 테두리 서식을 적용\n",
    "for row in ws:\n",
    "    for col in row:\n",
    "        col.border = border_styles\n",
    "\n",
    "wb.save(filename = \"샘플_셀 테두리 변경.xlsx\")"
   ]
  }
 ],
 "metadata": {
  "kernelspec": {
   "display_name": "Python 3",
   "language": "python",
   "name": "python3"
  },
  "language_info": {
   "codemirror_mode": {
    "name": "ipython",
    "version": 3
   },
   "file_extension": ".py",
   "mimetype": "text/x-python",
   "name": "python",
   "nbconvert_exporter": "python",
   "pygments_lexer": "ipython3",
   "version": "3.7.9"
  }
 },
 "nbformat": 4,
 "nbformat_minor": 5
}
