{
 "cells": [
  {
   "cell_type": "code",
   "execution_count": 9,
   "metadata": {},
   "outputs": [
    {
     "data": {
      "text/html": [
       "\n",
       "        <style>\n",
       "        .table_output th {\n",
       "            font-weight:bold;\n",
       "        }\n",
       "        </style>\n",
       "    <table class=\"table_output\"><thead><tr><th>No.</th><th>제품만족도</th><th>재구매 의사</th><th>추천의향</th><th>방문횟수</th><th>클레임 횟수</th><th>연령대</th><th>성별</th></tr></thead><tbody><tr><td>1</td><td>5</td><td>4</td><td>4</td><td>0</td><td>4</td><td>30대</td><td>남</td></tr><tr><td>2</td><td>5</td><td>4</td><td>4</td><td>0</td><td>4</td><td>20대</td><td>남</td></tr><tr><td>3</td><td>5</td><td>5</td><td>5</td><td>0</td><td>3</td><td>30대</td><td>여</td></tr><tr><td>4</td><td>5</td><td>5</td><td>5</td><td>2</td><td>3</td><td>20대</td><td>남</td></tr><tr><td>5</td><td>5</td><td>4</td><td>4</td><td>2</td><td>5</td><td>30대</td><td>여</td></tr><tr><td>6</td><td>5</td><td>4</td><td>4</td><td>0</td><td>0</td><td>30대</td><td>여</td></tr><tr><td>7</td><td>5</td><td>5</td><td>5</td><td>0</td><td>2</td><td>20대</td><td>남</td></tr><tr><td>8</td><td>5</td><td>4</td><td>4</td><td>1</td><td>1</td><td>30대</td><td>남</td></tr><tr><td>9</td><td>4</td><td>5</td><td>5</td><td>2</td><td>2</td><td>20대</td><td>남</td></tr><tr><td>10</td><td>5</td><td>5</td><td>5</td><td>4</td><td>10</td><td>30대</td><td>여</td></tr><tr><td>11</td><td>5</td><td>4</td><td>4</td><td>1</td><td>1</td><td>30대</td><td>남</td></tr><tr><td>12</td><td>5</td><td>4</td><td>4</td><td>1</td><td>1</td><td>30대</td><td>남</td></tr><tr><td>13</td><td>5</td><td>1</td><td>1</td><td>0</td><td>0</td><td>20대</td><td>남</td></tr></tbody></table>"
      ],
      "text/plain": [
       "<IPython.core.display.HTML object>"
      ]
     },
     "metadata": {},
     "output_type": "display_data"
    }
   ],
   "source": [
    "from openpyxl import load_workbook\n",
    "from IPython.core.display import display, HTML\n",
    "\n",
    "wb = load_workbook(\"sample_data/고객만족 데이터.xlsx\")\n",
    "ws = wb[\"Sheet1\"]\n",
    "\n",
    "def showTable(ws):\n",
    "    row_no = 0\n",
    "    src = \"\"\"\n",
    "        <style>\n",
    "        .table_output th {\n",
    "            font-weight:bold;\n",
    "        }\n",
    "        </style>\n",
    "    \"\"\"\n",
    "    src += \"<table class=\\\"table_output\\\">\"\n",
    "    for row in ws:\n",
    "        row_no += 1\n",
    "        if row_no == 1:\n",
    "            src += \"<thead>\"\n",
    "            th_td = \"th\"\n",
    "        elif row_no ==2:\n",
    "            src += \"<tbody>\"\n",
    "            th_td = \"td\"\n",
    "        else:\n",
    "            th_td = \"td\"\n",
    "        src += \"<tr>\"\n",
    "        for col in row:\n",
    "            src+= \"<\"+th_td+\">\" + str(col.value) + \"</\"+th_td+\">\"\n",
    "        src += \"</tr>\"\n",
    "        if row_no == 1:\n",
    "            src += \"</thead>\"\n",
    "    src += \"</tbody></table>\"\n",
    "    display(HTML(src))\n",
    "\n",
    "showTable(ws)"
   ]
  }
 ],
 "metadata": {
  "kernelspec": {
   "display_name": "Python 3",
   "language": "python",
   "name": "python3"
  },
  "language_info": {
   "codemirror_mode": {
    "name": "ipython",
    "version": 3
   },
   "file_extension": ".py",
   "mimetype": "text/x-python",
   "name": "python",
   "nbconvert_exporter": "python",
   "pygments_lexer": "ipython3",
   "version": "3.6.5"
  }
 },
 "nbformat": 4,
 "nbformat_minor": 4
}
