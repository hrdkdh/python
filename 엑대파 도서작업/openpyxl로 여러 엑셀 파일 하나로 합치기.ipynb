{
 "cells": [
  {
   "cell_type": "code",
   "execution_count": 92,
   "metadata": {},
   "outputs": [],
   "source": [
    "from copy import copy #셀의 값과 서식을 복사하기 위해 copy 모듈 로드\n",
    "from openpyxl import Workbook\n",
    "from openpyxl import load_workbook\n",
    "\n",
    "def copy_ws(ws_src, wb_dst, new_sheet_name): #대상 엑셀파일에 워크시트를 복사해 주는 사용자 함수 정의\n",
    "    wb_dst.create_sheet(new_sheet_name) #대상 엑셀파일에 워크시트 하나를 추가\n",
    "    new_sheet = wb_dst[new_sheet_name] #대상 엑셀파일에 추가한 워크시트를 선택\n",
    "    for row in ws_src: #원본 워크시트 행을 반복문을 통해 접근\n",
    "        for col in row: #셀을 반복문을 통해 셀에 접근\n",
    "            new_cell = new_sheet[col.coordinate] #현재 접근한 셀의 좌표를 new_cell 변수에 저장\n",
    "            \n",
    "            #현재 접근한 셀의 내용과 서식을 복사하여 대상 셀에 붙여넣기\n",
    "            new_cell.value = col.value\n",
    "            new_cell.font = copy(col.font)\n",
    "            new_cell.border = copy(col.border)\n",
    "            new_cell.fill = copy(col.fill)\n",
    "            new_cell.number_format = copy(col.number_format)\n",
    "            new_cell.protection = copy(col.protection)\n",
    "            new_cell.alignment = copy(col.alignment)\n",
    "    \n",
    "    if ws_src.merged_cells: #원본 워크시트에 병합된 셀이 있다면 대상 워크시트에도 반영\n",
    "        new_sheet.merge_cells(str(ws_src.merged_cells))\n",
    "\n",
    "wb_dst = Workbook() #엑셀파일이 병합될 워크북 생성\n",
    "src_file_list = [\"시트복사_원본1.xlsx\", \"시트복사_원본2.xlsx\"] #병합할 원본 파일들을 지정하여 리스트로 저장\n",
    "\n",
    "for src_file in src_file_list: #원본 파일들을 반복문을 통해 접근\n",
    "    wb_src = load_workbook(src_file) #원본 파일의 워크북을 객체로 로드\n",
    "    for ws_src in wb_src.worksheets: #워크북에 있는 워크시트를 반복문을 통해 접근\n",
    "        new_sheet_name = src_file.split(\".xlsx\")[0] + \"_\" + ws_src.title #대상 워크북에 저장될 시트 이름 생성\n",
    "        copy_ws(ws_src, wb_dst, new_sheet_name) #위에서 정의한 사용자 함수를 실행시켜 대상 워크북에 원본 워크시트를 복사시킴\n",
    "\n",
    "wb_dst.remove(wb_dst[\"Sheet\"]) #대상 워크북 객체 생성 시 자동으로 생성되는 기본 워크시트는 삭제\n",
    "wb_dst.save(\"시트복사.xlsx\") #병합이 끝난 대상 워크북 객체를 엑셀파일로 저장"
   ]
  }
 ],
 "metadata": {
  "kernelspec": {
   "display_name": "Python 3",
   "language": "python",
   "name": "python3"
  },
  "language_info": {
   "codemirror_mode": {
    "name": "ipython",
    "version": 3
   },
   "file_extension": ".py",
   "mimetype": "text/x-python",
   "name": "python",
   "nbconvert_exporter": "python",
   "pygments_lexer": "ipython3",
   "version": "3.6.5"
  }
 },
 "nbformat": 4,
 "nbformat_minor": 4
}
