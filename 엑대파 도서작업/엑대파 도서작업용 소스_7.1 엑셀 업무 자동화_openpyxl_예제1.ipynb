{
 "cells": [
  {
   "cell_type": "markdown",
   "id": "bec1c01a",
   "metadata": {},
   "source": [
    "#### 텍스트 형식으로 된 데이터를 숫자 형식으로 변경하기"
   ]
  },
  {
   "cell_type": "code",
   "execution_count": 61,
   "id": "ae4bf81f",
   "metadata": {},
   "outputs": [],
   "source": [
    "from openpyxl import load_workbook\n",
    "\n",
    "wb = load_workbook(\"고객만족 데이터.xlsx\") #다운받은 엑셀 파일을 wb 변수에 객체로 저장\n",
    "ws = wb[\"Sheet1\"] #시트 선택\n",
    "\n",
    "#반복문을 통해 A2에서 F14에 있는 설문응답 데이터만 숫자형으로 변경\n",
    "for row in ws:\n",
    "    for col in row:\n",
    "        if col.col_idx > 0 and col.col_idx < 7 and col.row > 1:\n",
    "            col.data_type = \"i\""
   ]
  },
  {
   "cell_type": "markdown",
   "id": "ba01660a",
   "metadata": {},
   "source": [
    "#### 평균/합계 함수 입력"
   ]
  },
  {
   "cell_type": "code",
   "execution_count": 62,
   "id": "98d83036",
   "metadata": {},
   "outputs": [],
   "source": [
    "this_max_row = ws.max_row #max_row 멤버변수는 데이터가 입력된 마지막 행 번호를 출력해 줌\n",
    "ws[\"A{}\".format(this_max_row+1)] = \"평균/합계\" #마지막 행 첫 번째 열에 타이틀 입력\n",
    "for col_let in [\"B\", \"C\", \"D\"]: #B, C, D열은 평균을 내는 열이므로 반복하며 동일한 엑셀 함수 입력\n",
    "    average_formula = \"=AVERAGE({}2:{}{})\".format(col_let, col_let, this_max_row)\n",
    "    ws[\"{}{}\".format(col_let, this_max_row+1)] = average_formula\n",
    "    ws[\"{}{}\".format(col_let, this_max_row+1)].number_format = \"#.##\"\n",
    "\n",
    "for col_let in [\"E\", \"F\"]: #E, F열은 합계를 내는 열이므로 반복하며 동일한 엑셀 함수 입력\n",
    "    sum_formula = \"=SUM({}2:{}{})\".format(col_let, col_let, this_max_row)\n",
    "    ws[\"{}{}\".format(col_let, this_max_row+1)] = sum_formula"
   ]
  },
  {
   "cell_type": "markdown",
   "id": "d182ce2f",
   "metadata": {},
   "source": [
    "#### 새로운 시트를 추가해 집계표 만들기"
   ]
  },
  {
   "cell_type": "code",
   "execution_count": 63,
   "id": "8c62c5c1",
   "metadata": {},
   "outputs": [],
   "source": [
    "wb.create_sheet(\"보고서 삽입용 집계표\") #집계표가 들어갈 시트 생성\n",
    "ws = wb[\"보고서 삽입용 집계표\"] #방금 생성한 집계표 시트를 선택하여 ws 변수에 새롭게 저장\n",
    "\n",
    "#집계표에 들어갈 내용을 리스트로 미리 지정 → 반복문을 통해 입력\n",
    "summary_table_form = [\n",
    "    [\"성별 분포\", \"남성\", \"여성\"],\n",
    "    [\"인원\", \"\", \"\"],\n",
    "    [\"비율\", \"\", \"\"],\n",
    "    [\"\", \"\", \"\"],\n",
    "    [\"연령 분포\", \"20대\", \"30대\", \"40대\", \"50대 이상\"],\n",
    "    [\"인원\", \"\", \"\"],\n",
    "    [\"비율\", \"\", \"\"],\n",
    "    [\"\", \"\", \"\"],\n",
    "    [\"조사결과\"],\n",
    "    [\"제품만족도\"],\n",
    "    [\"재구매 의사\"],\n",
    "    [\"추천의향\"],\n",
    "    [\"방문횟수\"],\n",
    "    [\"클레임 횟수\"]\n",
    "]\n",
    "#리스트 항목마다 반복하며 append() 메서드 실행하여 집계표 내용 입력\n",
    "for form_row in summary_table_form:\n",
    "    ws.append(form_row)"
   ]
  },
  {
   "cell_type": "code",
   "execution_count": 64,
   "id": "d4d49ee7",
   "metadata": {},
   "outputs": [],
   "source": [
    "for gender in [[\"B\", \"남\"], [\"C\", \"여\"]]:\n",
    "    ws[gender[0]+\"2\"] = \"=COUNTIF(Sheet1!H2:H{}, \\\"{}\\\")\".format(ws_max_row, gender[1])\n",
    "    ws[gender[0]+\"3\"] = \"={}2/SUM(B2:C2)\".format(gender[0])\n",
    "    ws[gender[0]+\"3\"].number_format = \"0.00%\"\n",
    "\n",
    "for age in [[\"B\", \"20대\"], [\"C\", \"30대\"], [\"D\", \"40대\"], [\"E\", \"50대 이상\"]]:\n",
    "    ws[age[0]+\"6\"] = \"=COUNTIF(Sheet1!G2:G{}, \\\"{}\\\")\".format(ws_max_row, age[1])\n",
    "    ws[age[0]+\"7\"] = \"={}6/SUM(B6:E6)\".format(age[0])\n",
    "    ws[age[0]+\"7\"].number_format = \"0.00%\"\n",
    "\n",
    "row_no = 10\n",
    "for alphabet in [\"B\", \"C\", \"D\", \"E\", \"F\"]:\n",
    "    ws[\"B\"+str(row_no)] = \"=Sheet1!{}{}\".format(alphabet, ws_max_row+1)\n",
    "    if row_no < 13:\n",
    "        ws[\"B\"+str(row_no)].number_format = \"#.##\"\n",
    "    row_no += 1"
   ]
  },
  {
   "cell_type": "markdown",
   "id": "bbb104f1",
   "metadata": {},
   "source": [
    "#### 집계표 서식 추가하기"
   ]
  },
  {
   "cell_type": "code",
   "execution_count": 65,
   "id": "mechanical-reconstruction",
   "metadata": {},
   "outputs": [],
   "source": [
    "ws.column_dimensions[\"A\"].width = 15\n",
    "for alphabet in [\"B\", \"C\", \"D\", \"E\"]:\n",
    "    ws.column_dimensions[alphabet].width = 10\n",
    "\n",
    "for i in range(len(summary_table_form)+1):\n",
    "    ws.row_dimensions[i].height = 25"
   ]
  },
  {
   "cell_type": "code",
   "execution_count": 66,
   "id": "b1eb56de",
   "metadata": {},
   "outputs": [],
   "source": [
    "from openpyxl.styles import Alignment, Side, Border, Font, PatternFill, Color\n",
    "\n",
    "alignment_style = Alignment(horizontal= \"center\", vertical = \"center\")\n",
    "side = Side(color=\"CCCCCC\", border_style=\"medium\")\n",
    "border_style = Border(\n",
    "    left = side,\n",
    "    right = side,\n",
    "    top = side,\n",
    "    bottom = side,\n",
    ")\n",
    "\n",
    "style_apply_cells = [\"A1:C3\", \"A5:E7\", \"A9:B14\"]\n",
    "for cell_area in style_apply_cells:\n",
    "    for row in ws[cell_area]:\n",
    "        for col in row:\n",
    "            col.alignment = alignment_style\n",
    "            col.border = border_style"
   ]
  },
  {
   "cell_type": "code",
   "execution_count": 67,
   "id": "e4db8353",
   "metadata": {},
   "outputs": [],
   "source": [
    "header_font_style = Font(sz=12, bold=True)\n",
    "header_background_style = PatternFill(fill_type=\"solid\", start_color=\"ffd663\")\n",
    "style_apply_cells_for_header = [\"A1:C1\", \"A5:E5\", \"A9:B9\"]\n",
    "\n",
    "for cell_area in style_apply_cells_for_header:\n",
    "    for row in ws[cell_area]:\n",
    "        for col in row:\n",
    "            col.font = header_font_style\n",
    "            col.fill = header_background_style\n",
    "\n",
    "ws.merge_cells(\"A9:B9\")\n",
    "\n",
    "wb.active = ws\n",
    "wb.save(\"고객만족 데이터_보고.xlsx\")"
   ]
  }
 ],
 "metadata": {
  "kernelspec": {
   "display_name": "Python 3",
   "language": "python",
   "name": "python3"
  },
  "language_info": {
   "codemirror_mode": {
    "name": "ipython",
    "version": 3
   },
   "file_extension": ".py",
   "mimetype": "text/x-python",
   "name": "python",
   "nbconvert_exporter": "python",
   "pygments_lexer": "ipython3",
   "version": "3.7.9"
  }
 },
 "nbformat": 4,
 "nbformat_minor": 5
}
