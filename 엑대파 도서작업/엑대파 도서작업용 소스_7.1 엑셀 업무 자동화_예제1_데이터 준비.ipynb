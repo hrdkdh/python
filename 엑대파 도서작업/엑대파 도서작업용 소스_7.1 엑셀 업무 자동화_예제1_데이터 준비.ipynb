{
 "cells": [
  {
   "cell_type": "markdown",
   "id": "8c97e01b",
   "metadata": {},
   "source": [
    "데이터 준비과정(메모)"
   ]
  },
  {
   "cell_type": "code",
   "execution_count": 97,
   "id": "414fdb52",
   "metadata": {
    "scrolled": false
   },
   "outputs": [],
   "source": [
    "import json\n",
    "import requests\n",
    "import pandas as pd\n",
    "\n",
    "url = \"http://www.gongamplus.com/safety/global/?ca=Ajax&command=getAnswerData&gr_timestamp=1624408051521\"\n",
    "response = requests.get(url)\n",
    "data_parsed = json.loads(response.text)\n",
    "answers = []\n",
    "for idx, answer in enumerate(data_parsed):\n",
    "    no = idx + 1\n",
    "    this_answer = json.loads(answer[\"answerStr\"])\n",
    "    this_answer[\"No.\"] = no\n",
    "    answers.append(this_answer)\n",
    "\n",
    "df = pd.DataFrame(answers)\n",
    "df = df.loc[:, [\"No.\", \"Q27\", \"Q28\", \"Q29\", \"Q60\", \"Q61\", \"Q62\", \"Q63\"]]\n",
    "df.loc[:, \"Q63\"].replace(\"직책\", \"남\", inplace=True)\n",
    "for i in [2, 4, 5, 9]:\n",
    "    df._set_value(i, \"Q63\", \"여\")\n",
    "for i in [3, 6, 8, 12]:\n",
    "    df._set_value(i, \"Q62\", \"20대\")\n",
    "df._set_value(9, \"Q61\", \"10\")\n",
    "col_rename_data = {\n",
    "    \"Q27\" : \"제품만족도\",\n",
    "    \"Q29\" : \"추천의향\",\n",
    "    \"Q28\" : \"재구매 의사\",\n",
    "    \"Q60\" : \"방문횟수\",\n",
    "    \"Q61\" : \"클레임 횟수\",\n",
    "    \"Q62\" : \"연령대\",\n",
    "    \"Q63\" : \"성별\"\n",
    "}\n",
    "df.rename(columns = col_rename_data, inplace = True)\n",
    "df.to_excel(\"고객만족 데이터.xlsx\", index=False)"
   ]
  }
 ],
 "metadata": {
  "kernelspec": {
   "display_name": "Python 3",
   "language": "python",
   "name": "python3"
  },
  "language_info": {
   "codemirror_mode": {
    "name": "ipython",
    "version": 3
   },
   "file_extension": ".py",
   "mimetype": "text/x-python",
   "name": "python",
   "nbconvert_exporter": "python",
   "pygments_lexer": "ipython3",
   "version": "3.7.9"
  }
 },
 "nbformat": 4,
 "nbformat_minor": 5
}
