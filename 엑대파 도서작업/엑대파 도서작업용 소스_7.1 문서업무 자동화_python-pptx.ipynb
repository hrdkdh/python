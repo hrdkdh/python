{
 "cells": [
  {
   "cell_type": "markdown",
   "id": "2f6d5a4d",
   "metadata": {},
   "source": [
    "#### 파워포인트 파일 생성하고 저장하기"
   ]
  },
  {
   "cell_type": "code",
   "execution_count": 36,
   "id": "414fdb52",
   "metadata": {},
   "outputs": [],
   "source": [
    "from pptx import Presentation\n",
    "\n",
    "# prs = Presentation() #파워포인트 객체 생성\n",
    "# prs.save(\"샘플.pptx\") #파워포인트 파일로 저장"
   ]
  },
  {
   "cell_type": "markdown",
   "id": "a44bf1e4",
   "metadata": {},
   "source": [
    "#### 파워포인트 파일 불러와 내용 수정 후 저장하기"
   ]
  },
  {
   "cell_type": "code",
   "execution_count": 37,
   "id": "1845e240",
   "metadata": {},
   "outputs": [
    {
     "name": "stdout",
     "output_type": "stream",
     "text": [
      "AUTO_SHAPE (1)\n",
      "PICTURE (13)\n",
      "TEXT_BOX (17)\n",
      "AUTO_SHAPE (1)\n",
      "TABLE (19)\n",
      "AUTO_SHAPE (1)\n",
      "AUTO_SHAPE (1)\n",
      "AUTO_SHAPE (1)\n",
      "AUTO_SHAPE (1)\n",
      "AUTO_SHAPE (1)\n",
      "GROUP (6)\n",
      "GROUP (6)\n",
      "AUTO_SHAPE (1)\n",
      "AUTO_SHAPE (1)\n",
      "AUTO_SHAPE (1)\n",
      "AUTO_SHAPE (1)\n",
      "AUTO_SHAPE (1)\n"
     ]
    }
   ],
   "source": [
    "prs = Presentation(\"사내 어린이집 원아모집.pptx\") #파일을 로드하여 파워포인트 객체 생성\n",
    "\n",
    "slide1 = prs.slides[0]\n",
    "for shape in slide1.shapes:\n",
    "    print(shape.shape_type)"
   ]
  },
  {
   "cell_type": "code",
   "execution_count": 38,
   "id": "88f0be24",
   "metadata": {
    "scrolled": false
   },
   "outputs": [
    {
     "name": "stdout",
     "output_type": "stream",
     "text": [
      "사내 어린이집 원아모집 (안내)\n",
      "직장 어린이집 원아모집 관련 내용을 안내드리오니\n",
      "자녀분의 입소를 희망하시는 직원분께서는 신청해주시기 바랍니다.\n",
      "1. 모집대상 : 만 1세 ~ 만 5세의 영유아가 있는 직원\n",
      "- 연령별 원아모집 결과에 따라 반별 인원은 조정 가능, 결원 시 수시모집\n",
      " \n",
      "2. 모집인원 (변동가능)\n",
      "3. 신청방법 \n",
      "\n",
      "바른\n",
      "어린이집\n",
      "신청 : 어린이집 홈페이지 신청\n",
      "서류제출 : 직접우편 접수 (첨부1 서류목록 및 제출처 주소지 참조)\n",
      "접수일정 : ~11.6(금) 18시 까지 온라인 접수  *20.11.13(금) 오후 2시 발표 예정\n",
      "신청 : 어린이집 홈페이지 신청\n",
      "서류제출 : 이메일 제출\u000b",
      "* 메일 제목 : 신청자이름/아동이름(생년월일)/서류제출명\n",
      "접수일정 : ~11.6(금) 18시 까지 온라인 접수  *20.11.13(금) 오후 2시 발표 예정\n",
      "신청 : 담당자 이메일 신청\u000b",
      "* 자녀성명/생년/모집구분 기재 必 (가족관계증명서 必)\n",
      "접수일정 : ~11.6(금) 18시 까지 메일 접수 *20.11.13(금) 오후 2시 발표 예정\n",
      "※ 첨부 : 어린이집 제출서류 상세 (안내)\n",
      "【마침】\n"
     ]
    }
   ],
   "source": [
    "slide1 = prs.slides[0]\n",
    "for shape in slide1.shapes:\n",
    "    if shape.shape_type == 1 or shape.shape_type == 17:\n",
    "        print(shape.text)"
   ]
  },
  {
   "cell_type": "code",
   "execution_count": 39,
   "id": "309acf8e",
   "metadata": {},
   "outputs": [],
   "source": [
    "slide1 = prs.slides[0]\n",
    "for shape in slide1.shapes:\n",
    "    if shape.shape_type == 1 and \"원아모집 (안내)\" in shape.text:\n",
    "        shape.text = \"어린이집 모집안내\""
   ]
  },
  {
   "cell_type": "markdown",
   "id": "81ac0b7e",
   "metadata": {},
   "source": [
    "#### 파워포인트 파일 서식 변경하기"
   ]
  },
  {
   "cell_type": "code",
   "execution_count": 44,
   "id": "44d49b54",
   "metadata": {},
   "outputs": [],
   "source": [
    "from pptx.util import Pt\n",
    "from pptx.dml.color import RGBColor\n",
    "\n",
    "prs = Presentation(\"사내 어린이집 원아모집.pptx\") #파일을 로드하여 파워포인트 객체 생성\n",
    "\n",
    "slide1 = prs.slides[0]\n",
    "for shape in slide1.shapes:\n",
    "    if shape.shape_type == 1 and \"원아모집 (안내)\" in shape.text:\n",
    "        shape.text_frame.paragraphs[0].font.bold = True\n",
    "        shape.text_frame.paragraphs[0].font.name = \"맑은 고딕\"\n",
    "        shape.text_frame.paragraphs[0].font.size = Pt(20)\n",
    "        shape.text_frame.paragraphs[0].font.color.rgb = RGBColor(0xFF, 0xFF, 0xFF)\n",
    "\n",
    "prs.save(\"사내 어린이집 원아모집_수정.pptx\") #다른 파워포인트 파일로 저장"
   ]
  }
 ],
 "metadata": {
  "kernelspec": {
   "display_name": "Python 3",
   "language": "python",
   "name": "python3"
  },
  "language_info": {
   "codemirror_mode": {
    "name": "ipython",
    "version": 3
   },
   "file_extension": ".py",
   "mimetype": "text/x-python",
   "name": "python",
   "nbconvert_exporter": "python",
   "pygments_lexer": "ipython3",
   "version": "3.7.9"
  }
 },
 "nbformat": 4,
 "nbformat_minor": 5
}
