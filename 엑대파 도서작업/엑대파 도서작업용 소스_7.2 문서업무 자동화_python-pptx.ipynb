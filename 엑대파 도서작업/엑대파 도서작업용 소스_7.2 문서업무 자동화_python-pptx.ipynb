{
 "cells": [
  {
   "cell_type": "markdown",
   "id": "2f6d5a4d",
   "metadata": {},
   "source": [
    "#### 파워포인트 파일 생성하고 저장하기"
   ]
  },
  {
   "cell_type": "code",
   "execution_count": 36,
   "id": "414fdb52",
   "metadata": {},
   "outputs": [],
   "source": [
    "from pptx import Presentation\n",
    "\n",
    "# prs = Presentation() #파워포인트 객체 생성\n",
    "# prs.save(\"샘플.pptx\") #파워포인트 파일로 저장"
   ]
  },
  {
   "cell_type": "markdown",
   "id": "a44bf1e4",
   "metadata": {},
   "source": [
    "#### 파워포인트 파일 불러와 내용 수정 후 저장하기"
   ]
  },
  {
   "cell_type": "code",
   "execution_count": 44,
   "id": "1845e240",
   "metadata": {
    "scrolled": true
   },
   "outputs": [
    {
     "name": "stdout",
     "output_type": "stream",
     "text": [
      "AUTO_SHAPE (1)\n",
      "PICTURE (13)\n",
      "TEXT_BOX (17)\n",
      "AUTO_SHAPE (1)\n",
      "TABLE (19)\n",
      "AUTO_SHAPE (1)\n",
      "AUTO_SHAPE (1)\n",
      "AUTO_SHAPE (1)\n",
      "AUTO_SHAPE (1)\n",
      "AUTO_SHAPE (1)\n",
      "GROUP (6)\n",
      "GROUP (6)\n",
      "AUTO_SHAPE (1)\n",
      "AUTO_SHAPE (1)\n",
      "AUTO_SHAPE (1)\n",
      "AUTO_SHAPE (1)\n",
      "AUTO_SHAPE (1)\n"
     ]
    }
   ],
   "source": [
    "prs = Presentation(\"사내 어린이집 원아모집.pptx\") #파일을 로드하여 파워포인트 객체 생성\n",
    "\n",
    "slide1 = prs.slides[0]\n",
    "for shape in slide1.shapes:\n",
    "    print(shape.shape_type)"
   ]
  },
  {
   "cell_type": "code",
   "execution_count": 45,
   "id": "88f0be24",
   "metadata": {
    "scrolled": false
   },
   "outputs": [],
   "source": [
    "slide1 = prs.slides[0]\n",
    "for shape in slide1.shapes:\n",
    "    if shape.shape_type == 1 or shape.shape_type == 17:\n",
    "        print(shape.text)"
   ]
  },
  {
   "cell_type": "code",
   "execution_count": 46,
   "id": "309acf8e",
   "metadata": {},
   "outputs": [],
   "source": [
    "from pptx import Presentation\n",
    "prs = Presentation(\"사내 어린이집 원아모집.pptx\") #파일을 로드하여 파워포인트 객체 생성\n",
    "\n",
    "slide1 = prs.slides[0]\n",
    "for shape in slide1.shapes:\n",
    "    if shape.shape_type == 1 and \"원아모집 (안내)\" in shape.text: #제목 도형인지 체크하기 위한 필터링\n",
    "        shape.text = \"어린이집 모집안내\"\n",
    "prs.save(\"사내 어린이집 원아모집_수정.pptx\") #다른 파워포인트 파일로 저장"
   ]
  },
  {
   "cell_type": "markdown",
   "id": "81ac0b7e",
   "metadata": {},
   "source": [
    "#### 파워포인트 파일 서식 변경하기"
   ]
  },
  {
   "cell_type": "code",
   "execution_count": 20,
   "id": "44d49b54",
   "metadata": {},
   "outputs": [],
   "source": [
    "from pptx import Presentation\n",
    "from pptx.util import Pt #폰트 크기 설정을 위해서 로드 필요 (Pt : point를 의미)\n",
    "from pptx.dml.color import RGBColor #색 설정을 위해서 로드 필요\n",
    "from pptx.enum.text import PP_ALIGN #텍스트 정렬을 위해서 로드 필요\n",
    "\n",
    "prs = Presentation(\"사내 어린이집 원아모집_수정.pptx\") #파일을 로드하여 파워포인트 객체 생성\n",
    "\n",
    "slide1 = prs.slides[0]\n",
    "for shape in slide1.shapes:\n",
    "    if shape.shape_type == 1 and shape.text == \"어린이집 모집안내\": #제목 도형이면 서식수정\n",
    "        shape.text_frame.paragraphs[0].alignment = PP_ALIGN.CENTER #중앙으로 정렬\n",
    "        shape.text_frame.paragraphs[0].font.bold = True #볼드체로 설정\n",
    "        shape.text_frame.paragraphs[0].font.name = \"맑은 고딕\" #맑은 고딕체로 설정\n",
    "        shape.text_frame.paragraphs[0].font.size = Pt(20) #폰트 크기를 20으로 설정\n",
    "        shape.text_frame.paragraphs[0].font.color.rgb = RGBColor(0xFF, 0xFF, 0xFF) #흰색설정\n",
    "        \n",
    "prs.save(\"사내 어린이집 원아모집_서식수정.pptx\") #다른 파워포인트 파일로 저장"
   ]
  },
  {
   "cell_type": "markdown",
   "id": "4717af78",
   "metadata": {},
   "source": [
    "#### 표의 내용 불러오고 수정하기"
   ]
  },
  {
   "cell_type": "code",
   "execution_count": 8,
   "id": "9bcc1206",
   "metadata": {
    "scrolled": true
   },
   "outputs": [
    {
     "name": "stdout",
     "output_type": "stream",
     "text": [
      "모집구분\n",
      "생년월일\n",
      "모집구분\n",
      "생년월일\n",
      "바른어린이집\n",
      "곧은어린이집\n",
      "희망어린이집\n",
      "만1세반\n",
      "‘19.1.1 ~ ‘19.12.31\n",
      "16\n",
      "18\n",
      "20\n",
      "만2세반\n",
      "‘18.1.1 ~ ‘18.12.31\n",
      "18\n",
      "18\n",
      "15\n",
      "만3세반\n",
      "‘17.1.1 ~ ‘17.12.31\n",
      "15\n",
      "22\n",
      "19\n",
      "만4세반\n",
      "‘16.1.1 ~ ‘16.12.31\n",
      "15\n",
      "12\n",
      "14\n",
      "만5세반\n",
      "’15.1.1 ~ ’15.12. 31\n",
      "15\n",
      "12\n",
      "13\n",
      "計\n",
      "\n",
      "79\n",
      "82\n",
      "81\n"
     ]
    }
   ],
   "source": [
    "from pptx import Presentation\n",
    "prs = Presentation(\"사내 어린이집 원아모집.pptx\") #파일을 로드하여 파워포인트 객체 생성\n",
    "\n",
    "slide1 = prs.slides[0]\n",
    "for shape in slide1.shapes:\n",
    "    if shape.has_table: #표만 따로 필터링하기. has_table 멤버변수로 표인지 체크 가능\n",
    "        print(shape.table.cell(row_idx=0, col_idx=0).text) #출력값 : 모집구분. 0번째 행, 0번째 열\n",
    "        print(shape.table.cell(0, 1).text) #출력값 : 생년월일, 1번째 행, 1번째 열\n",
    "        for cell in shape.table.iter_cells(): #반복문을 통해 순차적으로 접근가능(행 → 열 순)\n",
    "            print(cell.text)"
   ]
  },
  {
   "cell_type": "code",
   "execution_count": 22,
   "id": "5f9c419f",
   "metadata": {},
   "outputs": [],
   "source": [
    "from pptx import Presentation\n",
    "from pptx.util import Pt\n",
    "from pptx.enum.text import PP_ALIGN\n",
    "prs = Presentation(\"사내 어린이집 원아모집.pptx\") #파일을 로드하여 파워포인트 객체 생성\n",
    "\n",
    "#바꿀 내용을 리스트로 먼저 저장. 왼쪽은 원본, 오른쪽은 바뀔 내용\n",
    "replace_text = [\n",
    "    [\"바른어린이집\", \"좋은어린이집\"],\n",
    "    [\"곧은어린이집\", \"멋진어린이집\"],\n",
    "    [\"희망어린이집\", \"밝은어린이집\"]\n",
    "]\n",
    "\n",
    "slide1 = prs.slides[0]\n",
    "for shape in slide1.shapes:\n",
    "    if shape.has_table: #표만 따로 필터링하기. has_table 멤버변수로 표인지 체크 가능\n",
    "        for cell in shape.table.iter_cells(): #반복문을 통해 순차적으로 접근가능(행 → 열 순)\n",
    "            for re_text in replace_text:\n",
    "                if cell.text == re_text[0]: #바뀔 내용과 동일한 텍스트라면\n",
    "                    cell.text = re_text[1] #내용 변경\n",
    "                    #셀 내용을 수정하면 서식이 변경되므로 재조정\n",
    "                    cell.text_frame.paragraphs[0].alignment = PP_ALIGN.CENTER \n",
    "                    cell.text_frame.paragraphs[0].font.name = \"맑은 고딕\"\n",
    "                    cell.text_frame.paragraphs[0].font.bold = True\n",
    "                    cell.text_frame.paragraphs[0].font.size = Pt(11)\n",
    "                    break\n",
    "prs.save(\"사내 어린이집 원아모집_표 내용 수정.pptx\") #다른 파워포인트 파일로 저장"
   ]
  }
 ],
 "metadata": {
  "kernelspec": {
   "display_name": "Python 3",
   "language": "python",
   "name": "python3"
  },
  "language_info": {
   "codemirror_mode": {
    "name": "ipython",
    "version": 3
   },
   "file_extension": ".py",
   "mimetype": "text/x-python",
   "name": "python",
   "nbconvert_exporter": "python",
   "pygments_lexer": "ipython3",
   "version": "3.7.9"
  }
 },
 "nbformat": 4,
 "nbformat_minor": 5
}
