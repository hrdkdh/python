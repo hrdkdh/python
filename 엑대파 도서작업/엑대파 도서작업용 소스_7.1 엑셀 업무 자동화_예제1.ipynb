{
 "cells": [
  {
   "cell_type": "markdown",
   "id": "bec1c01a",
   "metadata": {},
   "source": [
    "#### 텍스트 형식으로 된 데이터를 숫자 형식으로 변경하기"
   ]
  },
  {
   "cell_type": "code",
   "execution_count": 131,
   "id": "ae4bf81f",
   "metadata": {},
   "outputs": [],
   "source": [
    "from openpyxl import load_workbook\n",
    "\n",
    "wb = load_workbook(\"고객만족 데이터.xlsx\")\n",
    "ws = wb[\"Sheet1\"]\n",
    "\n",
    "#반복문을 통해 A2에서 F14에 있는 나이 데이터만 숫자형으로 변경\n",
    "for row in ws:\n",
    "    for col in row:\n",
    "        if col.col_idx > 0 and col.col_idx < 7 and col.row > 1:\n",
    "            col.data_type = \"i\""
   ]
  },
  {
   "cell_type": "markdown",
   "id": "ba01660a",
   "metadata": {},
   "source": [
    "#### 평균/합계 함수 입력"
   ]
  },
  {
   "cell_type": "code",
   "execution_count": 132,
   "id": "98d83036",
   "metadata": {},
   "outputs": [],
   "source": [
    "ws_max_row = ws.max_row #max_row 멤버변수는 데이터가 입력된 마지막 행을 출력해 줌\n",
    "ws[\"A{}\".format(ws_max_row+1)] = \"평균/합계\"\n",
    "for col_let in [\"B\", \"C\", \"D\"]: #B, C, D열은 평균을 내는 열\n",
    "    average_formula = \"=AVERAGE({}2:{}{})\".format(col_let, col_let, ws_max_row)\n",
    "    ws[\"{}{}\".format(col_let, ws_max_row+1)] = average_formula\n",
    "    ws[\"{}{}\".format(col_let, ws_max_row+1)].number_format = \"#.##\"\n",
    "\n",
    "for col_let in [\"E\", \"F\"]: #E, F열은 합계를 내는 열\n",
    "    sum_formula = \"=SUM({}2:{}{})\".format(col_let, col_let, ws_max_row)\n",
    "    ws[\"{}{}\".format(col_let, ws_max_row+1)] = sum_formula"
   ]
  },
  {
   "cell_type": "markdown",
   "id": "d182ce2f",
   "metadata": {},
   "source": [
    "#### 새로운 시트를 추가해 집계표 만들기"
   ]
  },
  {
   "cell_type": "code",
   "execution_count": 133,
   "id": "8c62c5c1",
   "metadata": {},
   "outputs": [],
   "source": [
    "wb.create_sheet(\"보고서 삽입용 집계표\")\n",
    "ws = wb[\"보고서 삽입용 집계표\"]\n",
    "\n",
    "summary_table_form = [\n",
    "    [\"성별 분포\", \"남성\", \"여성\"],\n",
    "    [\"인원\", \"\", \"\"],\n",
    "    [\"비율\", \"\", \"\"],\n",
    "    [\"\", \"\", \"\"],\n",
    "    [\"연령 분포\", \"20대\", \"30대\", \"40대\", \"50대 이상\"],\n",
    "    [\"인원\", \"\", \"\"],\n",
    "    [\"비율\", \"\", \"\"],\n",
    "    [\"\", \"\", \"\"],\n",
    "    [\"조사결과\"],\n",
    "    [\"제품만족도\"],\n",
    "    [\"재구매 의사\"],\n",
    "    [\"추천의향\"],\n",
    "    [\"방문횟수\"],\n",
    "    [\"클레임 횟수\"]\n",
    "]\n",
    "\n",
    "for form in summary_table_form:\n",
    "    ws.append(form)"
   ]
  },
  {
   "cell_type": "code",
   "execution_count": 147,
   "id": "d4d49ee7",
   "metadata": {},
   "outputs": [],
   "source": [
    "for gender in [[\"B\", \"남\"], [\"C\", \"여\"]]:\n",
    "    ws[gender[0]+\"2\"] = \"=COUNTIF(Sheet1!H2:H{}, \\\"{}\\\")\".format(ws_max_row, gender[1])\n",
    "    ws[gender[0]+\"3\"] = \"={}2/SUM(B2:C2)\".format(gender[0])\n",
    "    ws[gender[0]+\"3\"].number_format = \"0.00%\"\n",
    "\n",
    "for age in [[\"B\", \"20대\"], [\"C\", \"30대\"], [\"D\", \"40대\"], [\"E\", \"50대 이상\"]]:\n",
    "    ws[age[0]+\"6\"] = \"=COUNTIF(Sheet1!G2:G{}, \\\"{}\\\")\".format(ws_max_row, age[1])\n",
    "    ws[age[0]+\"7\"] = \"={}6/SUM(B6:E6)\".format(age[0])\n",
    "    ws[age[0]+\"7\"].number_format = \"0.00%\"\n",
    "\n",
    "wb.active = ws\n",
    "wb.save(\"고객만족 데이터_보고.xlsx\")"
   ]
  },
  {
   "cell_type": "markdown",
   "id": "bbb104f1",
   "metadata": {},
   "source": [
    "#### 집계표 서식 추가하기"
   ]
  }
 ],
 "metadata": {
  "kernelspec": {
   "display_name": "Python 3",
   "language": "python",
   "name": "python3"
  },
  "language_info": {
   "codemirror_mode": {
    "name": "ipython",
    "version": 3
   },
   "file_extension": ".py",
   "mimetype": "text/x-python",
   "name": "python",
   "nbconvert_exporter": "python",
   "pygments_lexer": "ipython3",
   "version": "3.7.9"
  }
 },
 "nbformat": 4,
 "nbformat_minor": 5
}
