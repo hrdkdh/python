{
 "cells": [
  {
   "cell_type": "code",
   "execution_count": 67,
   "id": "798cb5bc",
   "metadata": {
    "scrolled": false
   },
   "outputs": [],
   "source": [
    "from openpyxl import Workbook\n",
    "\n",
    "wb = Workbook()\n",
    "ws = wb[\"Sheet\"]\n",
    "ws.title = \"서비스 청구서\""
   ]
  },
  {
   "cell_type": "code",
   "execution_count": 68,
   "id": "3be4fcd9",
   "metadata": {},
   "outputs": [],
   "source": [
    "col_list = [\n",
    "    [\"A\", \"고객사\", 20],\n",
    "    [\"B\", \"서비스 일자\", 12],\n",
    "    [\"C\", \"서비스 내역\", 40],\n",
    "    [\"D\", \"서비스 기사\", 12],\n",
    "    [\"E\", \"유상/무상\", 10],\n",
    "    [\"F\", \"공급가액(원)\", 15],\n",
    "    [\"G\", \"부가세(원)\", 15],\n",
    "    [\"H\", \"합계(원)\", 15]\n",
    "]\n",
    "ws[\"A2\"] = \"(주)카피맨 렌탈 복사기 서비스 비용 청구서\"\n",
    "ws[\"A4\"] = \"※서비스 기간 : 2021년 10월\"\n",
    "\n",
    "for col in col_list:\n",
    "    ws[col[0] + \"5\"] = col[1]\n",
    "\n",
    "ws[\"A8\"] = \"위 금액을 청구합니다.\"\n",
    "ws[\"A9\"] = \"2021년 10월 29일\"\n",
    "ws[\"A10\"] = \"(주)카피맨 대표이사 김카피(인)\""
   ]
  },
  {
   "cell_type": "code",
   "execution_count": 69,
   "id": "4397bded",
   "metadata": {},
   "outputs": [
    {
     "data": {
      "text/plain": [
       "<COMObject Open>"
      ]
     },
     "execution_count": 69,
     "metadata": {},
     "output_type": "execute_result"
    }
   ],
   "source": [
    "import win32com.client\n",
    "from openpyxl.styles import Alignment, PatternFill, Font, Side, Border\n",
    "\n",
    "side = Side(color=\"CCCCCC\", border_style=\"medium\")\n",
    "border_style = Border(\n",
    "    left = side,\n",
    "    right = side,\n",
    "    top = side,\n",
    "    bottom = side,\n",
    ")\n",
    "\n",
    "for col in col_list:\n",
    "    ws.column_dimensions[col[0]].width = col[2]\n",
    "    ws[col[0] + \"5\"].font = Font(sz=\"12\", bold=True)\n",
    "    ws[col[0] + \"5\"].fill = PatternFill(patternType=\"solid\", start_color=\"ffd663\")\n",
    "    ws[col[0] + \"5\"].border = border_style\n",
    "    ws[col[0] + \"5\"].alignment = Alignment(horizontal = \"center\", vertical = \"center\")\n",
    "    ws[col[0] + \"6\"].font = Font(sz=\"11\", bold=False)\n",
    "    ws[col[0] + \"6\"].border = border_style\n",
    "    ws[col[0] + \"6\"].alignment = Alignment(horizontal = \"center\", vertical = \"center\")\n",
    "\n",
    "for row_no in [\"2\", \"4\", \"8\", \"9\", \"10\"]:\n",
    "    ws.merge_cells(\"A\"+row_no+\":H\"+row_no)\n",
    "\n",
    "ws[\"A2\"].alignment = Alignment(horizontal = \"center\", vertical = \"center\")\n",
    "ws[\"A2\"].font = Font(sz=\"20\", bold=True)\n",
    "ws[\"A4\"].alignment = Alignment(horizontal = \"right\", vertical = \"center\")\n",
    "ws[\"A8\"].alignment = Alignment(horizontal = \"center\", vertical = \"center\")\n",
    "ws[\"A8\"].font = Font(sz=\"16\", bold=True)\n",
    "ws[\"A9\"].alignment = Alignment(horizontal = \"center\", vertical = \"center\")\n",
    "ws[\"A9\"].font = Font(sz=\"12\", bold=True)\n",
    "ws[\"A10\"].alignment = Alignment(horizontal = \"right\", vertical = \"center\")\n",
    "ws[\"A10\"].font = Font(sz=\"14\", bold=True)\n",
    "\n",
    "ws.row_dimensions[2].height = 40\n",
    "ws.row_dimensions[4].height = 20\n",
    "ws.row_dimensions[5].height = 25\n",
    "ws.row_dimensions[6].height = 25\n",
    "ws.row_dimensions[8].height = 40\n",
    "ws.row_dimensions[9].height = 20\n",
    "ws.row_dimensions[10].height = 40\n",
    "\n",
    "wb.save(\"sample_data/서비스 청구서 양식.xlsx\")\n",
    "excel = win32com.client.Dispatch(\"Excel.Application\")\n",
    "excel.Visible = True\n",
    "excel.Workbooks.Open(r\"C:\\Users\\poscouser\\Documents\\GitHub\\python\\엑대파 도서작업\\sample_data\\서비스 청구서 양식.xlsx\")\n",
    "# excel.Quit()"
   ]
  }
 ],
 "metadata": {
  "kernelspec": {
   "display_name": "Python 3",
   "language": "python",
   "name": "python3"
  },
  "language_info": {
   "codemirror_mode": {
    "name": "ipython",
    "version": 3
   },
   "file_extension": ".py",
   "mimetype": "text/x-python",
   "name": "python",
   "nbconvert_exporter": "python",
   "pygments_lexer": "ipython3",
   "version": "3.7.9"
  }
 },
 "nbformat": 4,
 "nbformat_minor": 5
}
