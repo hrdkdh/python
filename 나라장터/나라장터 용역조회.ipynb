{
 "cells": [
  {
   "cell_type": "code",
   "execution_count": 87,
   "id": "a5a38bf3",
   "metadata": {},
   "outputs": [],
   "source": [
    "import json\n",
    "import requests\n",
    "import pandas as pd\n",
    "\n",
    "def makeUrlParam(url, param):\n",
    "    params = \"\"\n",
    "    for key, val in param.items():\n",
    "        params += \"&\" + key + \"=\" + val\n",
    "    url = url + \"?\" + params[1:]\n",
    "    return url\n",
    "res_dic = []\n",
    "query_date = [\n",
    "    { \"start_date\" : \"20200101\", \"end_date\" : \"20200630\" },\n",
    "    { \"start_date\" : \"20200701\", \"end_date\" : \"20201231\" },\n",
    "    { \"start_date\" : \"20210101\", \"end_date\" : \"20210531\" }\n",
    "]\n",
    "stop_words = [\"교육\", \"조사\", \"발간\", \"연구\", \"홍보\", \"인력양성\", \"위탁관리\", \"위탁처리\", \"게임수출\", \"자격검정\", \"폐기\", \"완구\", \"컨설팅\", \"수출\", \"양성\"]\n",
    "url = \"http://apis.data.go.kr/1230000/BidPublicInfoService02/getBidPblancListInfoServcPPSSrch\"\n",
    "param = {\n",
    "    \"numOfRows\" : \"500\",\n",
    "    \"pageNo\" : \"1\",\n",
    "    \"ServiceKey\" : \"AiMHAf%2BJJUylxroBA5LeiG%2FkXWULTMXWujS9xTtiD0TO23mWyND4uvsmnWlTJEZcr%2FWq5q6qzQBi0Ps2KrlD%2Fg%3D%3D\",\n",
    "    \"inqryDiv\" : \"1\", #검색하고자하는 조회구분 1.등록일시, 2.입찰공고번호 3.변경일시\n",
    "    \"bidNtceNm\" : \"게임\",\n",
    "    \"type\" : \"json\"\n",
    "}"
   ]
  },
  {
   "cell_type": "code",
   "execution_count": 91,
   "id": "2a952f25",
   "metadata": {},
   "outputs": [
    {
     "name": "stdout",
     "output_type": "stream",
     "text": [
      "데이터 로드중... query_date : 20200101 ~ 20200630\n",
      "request_url : http://apis.data.go.kr/1230000/BidPublicInfoService02/getBidPblancListInfoServcPPSSrch?numOfRows=500&pageNo=1&ServiceKey=AiMHAf%2BJJUylxroBA5LeiG%2FkXWULTMXWujS9xTtiD0TO23mWyND4uvsmnWlTJEZcr%2FWq5q6qzQBi0Ps2KrlD%2Fg%3D%3D&inqryDiv=1&bidNtceNm=게임&type=json&inqryBgnDt=202001010000&inqryEndDt=202006300000\n",
      "데이터 로드완료. query_date : 20200101 ~ 20200630\n",
      "--------------------------------------------------------\n",
      "데이터 로드중... query_date : 20200701 ~ 20201231\n",
      "request_url : http://apis.data.go.kr/1230000/BidPublicInfoService02/getBidPblancListInfoServcPPSSrch?numOfRows=500&pageNo=1&ServiceKey=AiMHAf%2BJJUylxroBA5LeiG%2FkXWULTMXWujS9xTtiD0TO23mWyND4uvsmnWlTJEZcr%2FWq5q6qzQBi0Ps2KrlD%2Fg%3D%3D&inqryDiv=1&bidNtceNm=게임&type=json&inqryBgnDt=202007010000&inqryEndDt=202012310000\n",
      "데이터 로드완료. query_date : 20200701 ~ 20201231\n",
      "--------------------------------------------------------\n",
      "데이터 로드중... query_date : 20210101 ~ 20210531\n",
      "request_url : http://apis.data.go.kr/1230000/BidPublicInfoService02/getBidPblancListInfoServcPPSSrch?numOfRows=500&pageNo=1&ServiceKey=AiMHAf%2BJJUylxroBA5LeiG%2FkXWULTMXWujS9xTtiD0TO23mWyND4uvsmnWlTJEZcr%2FWq5q6qzQBi0Ps2KrlD%2Fg%3D%3D&inqryDiv=1&bidNtceNm=게임&type=json&inqryBgnDt=202101010000&inqryEndDt=202105310000\n",
      "데이터 로드완료. query_date : 20210101 ~ 20210531\n",
      "--------------------------------------------------------\n",
      "총 424건 로드완료\n"
     ]
    }
   ],
   "source": [
    "for query in query_date:\n",
    "    print(\"데이터 로드중... query_date : {} ~ {}\".format(query[\"start_date\"], query[\"end_date\"]))\n",
    "    param[\"inqryBgnDt\"] = query[\"start_date\"] + \"0000\"\n",
    "    param[\"inqryEndDt\"] = query[\"end_date\"] + \"0000\"\n",
    "    request_url = makeUrlParam(url, param)\n",
    "    print(\"request_url : {}\".format(request_url))\n",
    "    res = requests.get(request_url)\n",
    "    try:\n",
    "        res_arr = json.loads(res.text)\n",
    "        if res_arr[\"response\"][\"header\"][\"resultCode\"] == \"00\":\n",
    "            for item in res_arr[\"response\"][\"body\"][\"items\"]:\n",
    "                stop_word_check = False\n",
    "                for stop_word in stop_words:\n",
    "                    if stop_word in item[\"bidNtceNm\"]:\n",
    "                        stop_word_check = True\n",
    "                        break\n",
    "                if stop_word_check == False:\n",
    "#                     print(item[\"bidNtceNm\"])\n",
    "                    this_dic = {}\n",
    "                    this_dic[\"게시일\"] = item[\"bidNtceDt\"]\n",
    "                    this_dic[\"용역명\"] = item[\"bidNtceNm\"]\n",
    "                    this_dic[\"기초금액\"] = item[\"asignBdgtAmt\"]\n",
    "                    this_dic[\"공고문\"] = '=HYPERLINK(\"{}\", \"{}\")'.format(item[\"ntceSpecDocUrl1\"], \"링크\")\n",
    "                    this_dic[\"제안요청서\"] = '=HYPERLINK(\"{}\", \"{}\")'.format(item[\"ntceSpecDocUrl2\"], \"링크\")\n",
    "                    this_dic[\"기타\"] = '=HYPERLINK(\"{}\", \"{}\")'.format(item[\"ntceSpecDocUrl3\"], \"링크\")\n",
    "                    res_dic.append(this_dic)\n",
    "            print(\"데이터 로드완료. query_date : {} ~ {}\".format(query[\"start_date\"], query[\"end_date\"]))\n",
    "            print(\"--------------------------------------------------------\")\n",
    "        else:\n",
    "            print(\"query_date : {} ~ {}, resultMsg : {}\".format(query[\"start_date\"], query[\"end_date\"], res_arr[\"response\"][\"header\"][\"resultMsg\"]))\n",
    "            print(\"--------------------------------------------------------\")\n",
    "    except:\n",
    "        print(\"json load 오류발생 : query_date : {} ~ {}\".format(query[\"start_date\"], query[\"end_date\"]))\n",
    "        print(res.text)\n",
    "        print(\"--------------------------------------------------------\")\n",
    "        break\n",
    "        \n",
    "df = pd.DataFrame(res_dic)\n",
    "df.to_excel(\"나라장터/output.xlsx\", index=False)\n",
    "print(\"총 {}건 로드완료\".format(len(res_dic)))"
   ]
  }
 ],
 "metadata": {
  "kernelspec": {
   "display_name": "Python 3",
   "language": "python",
   "name": "python3"
  },
  "language_info": {
   "codemirror_mode": {
    "name": "ipython",
    "version": 3
   },
   "file_extension": ".py",
   "mimetype": "text/x-python",
   "name": "python",
   "nbconvert_exporter": "python",
   "pygments_lexer": "ipython3",
   "version": "3.7.9"
  },
  "toc": {
   "base_numbering": 1,
   "nav_menu": {},
   "number_sections": true,
   "sideBar": true,
   "skip_h1_title": false,
   "title_cell": "Table of Contents",
   "title_sidebar": "Contents",
   "toc_cell": false,
   "toc_position": {},
   "toc_section_display": true,
   "toc_window_display": false
  }
 },
 "nbformat": 4,
 "nbformat_minor": 5
}
