{
 "cells": [
  {
   "cell_type": "code",
   "execution_count": 23,
   "id": "fa43387f",
   "metadata": {},
   "outputs": [
    {
     "name": "stdout",
     "output_type": "stream",
     "text": [
      "20210602 : 수집중...\n",
      "20210603 : 수집중...\n",
      "20210604 : 수집중...\n",
      "           ymd  time   price\n",
      "0     20210602  1558  353000\n",
      "1     20210602  1557  353000\n",
      "2     20210602  1555  353000\n",
      "3     20210602  1554  353000\n",
      "4     20210602  1548  353000\n",
      "...        ...   ...     ...\n",
      "1165  20210604  0913  346000\n",
      "1166  20210604  0912  346000\n",
      "1167  20210604  0911  345500\n",
      "1168  20210604  0910  345500\n",
      "1169  20210604  0909  345000\n",
      "\n",
      "[1170 rows x 3 columns]\n"
     ]
    }
   ],
   "source": [
    "import ssl\n",
    "import pandas as pd\n",
    "import requests\n",
    "from bs4 import BeautifulSoup\n",
    "\n",
    "stock_code = \"005490\"\n",
    "start_ymd = 20210602\n",
    "end_ymd = 20210605\n",
    "host = \"https://finance.naver.com\"\n",
    "df = pd.DataFrame(columns=[\"ymd\", \"time\", \"price\"])\n",
    "requests.packages.urllib3.disable_warnings(requests.packages.urllib3.exceptions.InsecureRequestWarning)\n",
    "\n",
    "for ymd in range(start_ymd, end_ymd): #end_ymd 넣을 것\n",
    "    print(str(ymd) + \" : 수집중...\")\n",
    "    url = host+\"/item/sise_time.nhn?code=\"+stock_code+\"&thistime=\"+str(ymd)+\"161036&page=1\"\n",
    "    header = {\n",
    "        \"User-Agent\": \"Mozilla/5.0 (Windows NT 10.0; Win64; x64) AppleWebKit/537.36 (KHTML, like Gecko) Chrome/91.0.4472.77 Safari/537.36\"\n",
    "    }\n",
    "    request_results = requests.get(url, headers=header, verify=False)\n",
    "    soup = BeautifulSoup(request_results.text, \"html.parser\")\n",
    "\n",
    "    page_url = host+\"/item/sise_time.nhn?code=005490&thistime=\"+str(ymd)+\"161036&page=\"\n",
    "    last_page_no = int(soup.findAll(\"a\")[-1].attrs[\"href\"].split(\"=\")[-1])\n",
    "\n",
    "    for page_no in range(1, last_page_no): #2대신 last_page_no 넣을 것\n",
    "        this_request_results = requests.get(page_url+str(page_no), headers=header, verify=False)\n",
    "        this_soup = BeautifulSoup(this_request_results.text, \"html.parser\")\n",
    "        this_tr = this_soup.findAll(\"table\")[-2].findAll(\"tr\")\n",
    "        for i, tr in enumerate(this_tr):\n",
    "            if i>1 and len(tr.findAll(\"td\"))>2 and tr.findAll(\"td\")[0] is not None:\n",
    "                df = df.append({\"ymd\" : ymd, \"time\" : tr.findAll(\"td\")[0].findAll(\"span\")[0].text.replace(\":\", \"\"), \"price\" : tr.findAll(\"td\")[1].findAll(\"span\")[0].text.replace(\",\",\"\")}, ignore_index=True)\n",
    "\n",
    "df.to_excel(\"result.xlsx\", index=False)\n",
    "display(df)"
   ]
  }
 ],
 "metadata": {
  "kernelspec": {
   "display_name": "Python 3",
   "language": "python",
   "name": "python3"
  },
  "language_info": {
   "codemirror_mode": {
    "name": "ipython",
    "version": 3
   },
   "file_extension": ".py",
   "mimetype": "text/x-python",
   "name": "python",
   "nbconvert_exporter": "python",
   "pygments_lexer": "ipython3",
   "version": "3.7.9"
  },
  "toc": {
   "base_numbering": 1,
   "nav_menu": {},
   "number_sections": true,
   "sideBar": true,
   "skip_h1_title": false,
   "title_cell": "Table of Contents",
   "title_sidebar": "Contents",
   "toc_cell": false,
   "toc_position": {},
   "toc_section_display": true,
   "toc_window_display": false
  }
 },
 "nbformat": 4,
 "nbformat_minor": 5
}
