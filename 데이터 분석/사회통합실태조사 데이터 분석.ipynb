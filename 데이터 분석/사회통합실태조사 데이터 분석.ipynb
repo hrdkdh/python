{
 "cells": [
  {
   "cell_type": "code",
   "execution_count": 49,
   "id": "4dab8d65",
   "metadata": {},
   "outputs": [],
   "source": [
    "import pandas as pd\n",
    "import matplotlib.pyplot as plt\n",
    "from statsmodels.formula.api import ols\n",
    "from sklearn.linear_model import LinearRegression\n",
    "\n",
    "df = pd.read_spss(\"한국행정연구원_사회통합실태조사_데이터_2019.sav\")"
   ]
  },
  {
   "cell_type": "code",
   "execution_count": 50,
   "id": "0419da81",
   "metadata": {},
   "outputs": [],
   "source": [
    "df[\"q12\"].replace(\"북한은 우리의 적도 친구도 아니다\", \"5\", inplace = True)\n",
    "df[\"q12\"].replace(\"북한은 우리의 적이다\", \"1\", inplace = True)\n",
    "df[\"q12\"].replace(\"북한은 우리의 친구이다\", \"10\", inplace = True)"
   ]
  },
  {
   "cell_type": "code",
   "execution_count": 69,
   "id": "8639ef65",
   "metadata": {},
   "outputs": [],
   "source": [
    "def getColToInt(df, col1, col2):\n",
    "    df_temp = pd.DataFrame()\n",
    "    df_temp[col1] = df[col1].str[:1].astype(int)\n",
    "    df_temp[col2] = df[col2].str[:1].astype(int)\n",
    "    \n",
    "    return df_temp\n",
    "    \n",
    "def getCorr(df, col1, col2):\n",
    "    df_temp = getColToInt(df, col1, col2)\n",
    "    \n",
    "    df_temp.plot(x=col1, y=col2, kind=\"scatter\")\n",
    "    corr_df = df_temp.corr(method=\"pearson\")\n",
    "    reg = getReg(df_temp, col1, col2)\n",
    "    \n",
    "    display(corr_df)\n",
    "    display(reg )\n",
    "#     plt.matshow(corr_df)\n",
    "#     plt.show()\n",
    "\n",
    "def getReg(df_temp, col1, col2):\n",
    "    fit = ols(col2+\" ~ \"+col1, data = df_temp).fit()\n",
    "    result = fit.summary()\n",
    "    return result"
   ]
  },
  {
   "cell_type": "code",
   "execution_count": 70,
   "id": "753f75ee",
   "metadata": {},
   "outputs": [
    {
     "data": {
      "text/html": [
       "<div>\n",
       "<style scoped>\n",
       "    .dataframe tbody tr th:only-of-type {\n",
       "        vertical-align: middle;\n",
       "    }\n",
       "\n",
       "    .dataframe tbody tr th {\n",
       "        vertical-align: top;\n",
       "    }\n",
       "\n",
       "    .dataframe thead th {\n",
       "        text-align: right;\n",
       "    }\n",
       "</style>\n",
       "<table border=\"1\" class=\"dataframe\">\n",
       "  <thead>\n",
       "    <tr style=\"text-align: right;\">\n",
       "      <th></th>\n",
       "      <th>q4</th>\n",
       "      <th>q12</th>\n",
       "    </tr>\n",
       "  </thead>\n",
       "  <tbody>\n",
       "    <tr>\n",
       "      <th>q4</th>\n",
       "      <td>1.000000</td>\n",
       "      <td>0.154555</td>\n",
       "    </tr>\n",
       "    <tr>\n",
       "      <th>q12</th>\n",
       "      <td>0.154555</td>\n",
       "      <td>1.000000</td>\n",
       "    </tr>\n",
       "  </tbody>\n",
       "</table>\n",
       "</div>"
      ],
      "text/plain": [
       "           q4       q12\n",
       "q4   1.000000  0.154555\n",
       "q12  0.154555  1.000000"
      ]
     },
     "metadata": {},
     "output_type": "display_data"
    },
    {
     "data": {
      "text/html": [
       "<table class=\"simpletable\">\n",
       "<caption>OLS Regression Results</caption>\n",
       "<tr>\n",
       "  <th>Dep. Variable:</th>           <td>q12</td>       <th>  R-squared:         </th> <td>   0.024</td> \n",
       "</tr>\n",
       "<tr>\n",
       "  <th>Model:</th>                   <td>OLS</td>       <th>  Adj. R-squared:    </th> <td>   0.024</td> \n",
       "</tr>\n",
       "<tr>\n",
       "  <th>Method:</th>             <td>Least Squares</td>  <th>  F-statistic:       </th> <td>   195.7</td> \n",
       "</tr>\n",
       "<tr>\n",
       "  <th>Date:</th>             <td>Tue, 06 Jul 2021</td> <th>  Prob (F-statistic):</th> <td>5.89e-44</td> \n",
       "</tr>\n",
       "<tr>\n",
       "  <th>Time:</th>                 <td>16:11:24</td>     <th>  Log-Likelihood:    </th> <td> -16170.</td> \n",
       "</tr>\n",
       "<tr>\n",
       "  <th>No. Observations:</th>      <td>  8000</td>      <th>  AIC:               </th> <td>3.234e+04</td>\n",
       "</tr>\n",
       "<tr>\n",
       "  <th>Df Residuals:</th>          <td>  7998</td>      <th>  BIC:               </th> <td>3.236e+04</td>\n",
       "</tr>\n",
       "<tr>\n",
       "  <th>Df Model:</th>              <td>     1</td>      <th>                     </th>     <td> </td>    \n",
       "</tr>\n",
       "<tr>\n",
       "  <th>Covariance Type:</th>      <td>nonrobust</td>    <th>                     </th>     <td> </td>    \n",
       "</tr>\n",
       "</table>\n",
       "<table class=\"simpletable\">\n",
       "<tr>\n",
       "      <td></td>         <th>coef</th>     <th>std err</th>      <th>t</th>      <th>P>|t|</th>  <th>[0.025</th>    <th>0.975]</th>  \n",
       "</tr>\n",
       "<tr>\n",
       "  <th>Intercept</th> <td>    3.5786</td> <td>    0.072</td> <td>   49.742</td> <td> 0.000</td> <td>    3.438</td> <td>    3.720</td>\n",
       "</tr>\n",
       "<tr>\n",
       "  <th>q4</th>        <td>    0.1836</td> <td>    0.013</td> <td>   13.990</td> <td> 0.000</td> <td>    0.158</td> <td>    0.209</td>\n",
       "</tr>\n",
       "</table>\n",
       "<table class=\"simpletable\">\n",
       "<tr>\n",
       "  <th>Omnibus:</th>       <td>119.159</td> <th>  Durbin-Watson:     </th> <td>   1.533</td>\n",
       "</tr>\n",
       "<tr>\n",
       "  <th>Prob(Omnibus):</th> <td> 0.000</td>  <th>  Jarque-Bera (JB):  </th> <td> 121.168</td>\n",
       "</tr>\n",
       "<tr>\n",
       "  <th>Skew:</th>          <td>-0.288</td>  <th>  Prob(JB):          </th> <td>4.88e-27</td>\n",
       "</tr>\n",
       "<tr>\n",
       "  <th>Kurtosis:</th>      <td> 2.819</td>  <th>  Cond. No.          </th> <td>    19.9</td>\n",
       "</tr>\n",
       "</table><br/><br/>Notes:<br/>[1] Standard Errors assume that the covariance matrix of the errors is correctly specified."
      ],
      "text/plain": [
       "<class 'statsmodels.iolib.summary.Summary'>\n",
       "\"\"\"\n",
       "                            OLS Regression Results                            \n",
       "==============================================================================\n",
       "Dep. Variable:                    q12   R-squared:                       0.024\n",
       "Model:                            OLS   Adj. R-squared:                  0.024\n",
       "Method:                 Least Squares   F-statistic:                     195.7\n",
       "Date:                Tue, 06 Jul 2021   Prob (F-statistic):           5.89e-44\n",
       "Time:                        16:11:24   Log-Likelihood:                -16170.\n",
       "No. Observations:                8000   AIC:                         3.234e+04\n",
       "Df Residuals:                    7998   BIC:                         3.236e+04\n",
       "Df Model:                           1                                         \n",
       "Covariance Type:            nonrobust                                         \n",
       "==============================================================================\n",
       "                 coef    std err          t      P>|t|      [0.025      0.975]\n",
       "------------------------------------------------------------------------------\n",
       "Intercept      3.5786      0.072     49.742      0.000       3.438       3.720\n",
       "q4             0.1836      0.013     13.990      0.000       0.158       0.209\n",
       "==============================================================================\n",
       "Omnibus:                      119.159   Durbin-Watson:                   1.533\n",
       "Prob(Omnibus):                  0.000   Jarque-Bera (JB):              121.168\n",
       "Skew:                          -0.288   Prob(JB):                     4.88e-27\n",
       "Kurtosis:                       2.819   Cond. No.                         19.9\n",
       "==============================================================================\n",
       "\n",
       "Notes:\n",
       "[1] Standard Errors assume that the covariance matrix of the errors is correctly specified.\n",
       "\"\"\""
      ]
     },
     "metadata": {},
     "output_type": "display_data"
    },
    {
     "data": {
      "image/png": "[encoded data removed]",
      "text/plain": [
       "<Figure size 432x288 with 1 Axes>"
      ]
     },
     "metadata": {
      "needs_background": "light"
     },
     "output_type": "display_data"
    }
   ],
   "source": [
    "getCorr(df, \"q4\", \"q12\")"
   ]
  }
 ],
 "metadata": {
  "kernelspec": {
   "display_name": "Python 3",
   "language": "python",
   "name": "python3"
  },
  "language_info": {
   "codemirror_mode": {
    "name": "ipython",
    "version": 3
   },
   "file_extension": ".py",
   "mimetype": "text/x-python",
   "name": "python",
   "nbconvert_exporter": "python",
   "pygments_lexer": "ipython3",
   "version": "3.7.9"
  }
 },
 "nbformat": 4,
 "nbformat_minor": 5
}
